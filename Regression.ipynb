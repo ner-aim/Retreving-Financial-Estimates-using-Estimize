{
 "cells": [
  {
   "cell_type": "code",
   "execution_count": 18,
   "metadata": {},
   "outputs": [],
   "source": [
    "import pandas as pd\n",
    "import numpy as np"
   ]
  },
  {
   "cell_type": "code",
   "execution_count": 19,
   "metadata": {},
   "outputs": [],
   "source": [
    "company = pd.read_csv(\"Company.csv\")"
   ]
  },
  {
   "cell_type": "code",
   "execution_count": 20,
   "metadata": {},
   "outputs": [],
   "source": [
    "company.drop(\"Unnamed: 0\", axis = 1, inplace = True)"
   ]
  },
  {
   "cell_type": "code",
   "execution_count": 21,
   "metadata": {},
   "outputs": [
    {
     "data": {
      "text/html": [
       "<div>\n",
       "<style scoped>\n",
       "    .dataframe tbody tr th:only-of-type {\n",
       "        vertical-align: middle;\n",
       "    }\n",
       "\n",
       "    .dataframe tbody tr th {\n",
       "        vertical-align: top;\n",
       "    }\n",
       "\n",
       "    .dataframe thead th {\n",
       "        text-align: right;\n",
       "    }\n",
       "</style>\n",
       "<table border=\"1\" class=\"dataframe\">\n",
       "  <thead>\n",
       "    <tr style=\"text-align: right;\">\n",
       "      <th></th>\n",
       "      <th>Ticker</th>\n",
       "      <th>Name</th>\n",
       "      <th>Sector</th>\n",
       "      <th>Industry</th>\n",
       "      <th>Followers</th>\n",
       "      <th>Analysts</th>\n",
       "    </tr>\n",
       "  </thead>\n",
       "  <tbody>\n",
       "    <tr>\n",
       "      <th>0</th>\n",
       "      <td>GNC</td>\n",
       "      <td>GNC Holdings Inc.</td>\n",
       "      <td>Consumer Discretionary</td>\n",
       "      <td>Specialty Retail</td>\n",
       "      <td>130</td>\n",
       "      <td>185</td>\n",
       "    </tr>\n",
       "    <tr>\n",
       "      <th>1</th>\n",
       "      <td>PAG</td>\n",
       "      <td>Penske Automotive Group, Inc.</td>\n",
       "      <td>Consumer Discretionary</td>\n",
       "      <td>Specialty Retail</td>\n",
       "      <td>51</td>\n",
       "      <td>84</td>\n",
       "    </tr>\n",
       "    <tr>\n",
       "      <th>2</th>\n",
       "      <td>ABG</td>\n",
       "      <td>Asbury Automotive Group, Inc.</td>\n",
       "      <td>Consumer Discretionary</td>\n",
       "      <td>Specialty Retail</td>\n",
       "      <td>47</td>\n",
       "      <td>84</td>\n",
       "    </tr>\n",
       "    <tr>\n",
       "      <th>3</th>\n",
       "      <td>SYX</td>\n",
       "      <td>Global Industrial Company</td>\n",
       "      <td>Consumer Discretionary</td>\n",
       "      <td>Specialty Retail</td>\n",
       "      <td>15</td>\n",
       "      <td>28</td>\n",
       "    </tr>\n",
       "    <tr>\n",
       "      <th>4</th>\n",
       "      <td>MNRO</td>\n",
       "      <td>Monro, Inc.</td>\n",
       "      <td>Consumer Discretionary</td>\n",
       "      <td>Specialty Retail</td>\n",
       "      <td>58</td>\n",
       "      <td>162</td>\n",
       "    </tr>\n",
       "  </tbody>\n",
       "</table>\n",
       "</div>"
      ],
      "text/plain": [
       "  Ticker                           Name                  Sector  \\\n",
       "0    GNC              GNC Holdings Inc.  Consumer Discretionary   \n",
       "1    PAG  Penske Automotive Group, Inc.  Consumer Discretionary   \n",
       "2    ABG  Asbury Automotive Group, Inc.  Consumer Discretionary   \n",
       "3    SYX      Global Industrial Company  Consumer Discretionary   \n",
       "4   MNRO                    Monro, Inc.  Consumer Discretionary   \n",
       "\n",
       "           Industry Followers Analysts  \n",
       "0  Specialty Retail       130      185  \n",
       "1  Specialty Retail        51       84  \n",
       "2  Specialty Retail        47       84  \n",
       "3  Specialty Retail        15       28  \n",
       "4  Specialty Retail        58      162  "
      ]
     },
     "execution_count": 21,
     "metadata": {},
     "output_type": "execute_result"
    }
   ],
   "source": [
    "company.head()"
   ]
  },
  {
   "cell_type": "code",
   "execution_count": 22,
   "metadata": {},
   "outputs": [],
   "source": [
    "eps_q1 = pd.read_csv(\"EPS_Q1_2019_updated.csv\", index_col = \"Unnamed: 0\")\n",
    "eps_q1[\"Quarter\"] = \"Q1\""
   ]
  },
  {
   "cell_type": "code",
   "execution_count": 23,
   "metadata": {},
   "outputs": [],
   "source": [
    "eps_q1[\"Wall_Street_Conses\"].replace(' ', 0, inplace = True)"
   ]
  },
  {
   "cell_type": "code",
   "execution_count": 24,
   "metadata": {},
   "outputs": [
    {
     "data": {
      "text/html": [
       "<div>\n",
       "<style scoped>\n",
       "    .dataframe tbody tr th:only-of-type {\n",
       "        vertical-align: middle;\n",
       "    }\n",
       "\n",
       "    .dataframe tbody tr th {\n",
       "        vertical-align: top;\n",
       "    }\n",
       "\n",
       "    .dataframe thead th {\n",
       "        text-align: right;\n",
       "    }\n",
       "</style>\n",
       "<table border=\"1\" class=\"dataframe\">\n",
       "  <thead>\n",
       "    <tr style=\"text-align: right;\">\n",
       "      <th></th>\n",
       "      <th>Ticker</th>\n",
       "      <th>Reported_Earnings</th>\n",
       "      <th>Estimate_Consensus</th>\n",
       "      <th>Estimate_Mean</th>\n",
       "      <th>Wall_Street_Conses</th>\n",
       "      <th>Quarter</th>\n",
       "    </tr>\n",
       "  </thead>\n",
       "  <tbody>\n",
       "    <tr>\n",
       "      <th>0</th>\n",
       "      <td>GNC</td>\n",
       "      <td>0.15</td>\n",
       "      <td>0.02</td>\n",
       "      <td>0.07</td>\n",
       "      <td>0</td>\n",
       "      <td>Q1</td>\n",
       "    </tr>\n",
       "    <tr>\n",
       "      <th>1</th>\n",
       "      <td>PAG</td>\n",
       "      <td>1.25</td>\n",
       "      <td>1.23</td>\n",
       "      <td>1.23</td>\n",
       "      <td>1.24</td>\n",
       "      <td>Q1</td>\n",
       "    </tr>\n",
       "    <tr>\n",
       "      <th>2</th>\n",
       "      <td>ABG</td>\n",
       "      <td>2.20</td>\n",
       "      <td>2.02</td>\n",
       "      <td>1.98</td>\n",
       "      <td>1.92</td>\n",
       "      <td>Q1</td>\n",
       "    </tr>\n",
       "    <tr>\n",
       "      <th>3</th>\n",
       "      <td>SYX</td>\n",
       "      <td>0.29</td>\n",
       "      <td>0.24</td>\n",
       "      <td>0.24</td>\n",
       "      <td>0.24</td>\n",
       "      <td>Q1</td>\n",
       "    </tr>\n",
       "    <tr>\n",
       "      <th>4</th>\n",
       "      <td>MNRO</td>\n",
       "      <td>0.64</td>\n",
       "      <td>0.67</td>\n",
       "      <td>0.67</td>\n",
       "      <td>0.67</td>\n",
       "      <td>Q1</td>\n",
       "    </tr>\n",
       "  </tbody>\n",
       "</table>\n",
       "</div>"
      ],
      "text/plain": [
       "  Ticker  Reported_Earnings Estimate_Consensus Estimate_Mean  \\\n",
       "0    GNC               0.15               0.02          0.07   \n",
       "1    PAG               1.25               1.23          1.23   \n",
       "2    ABG               2.20               2.02          1.98   \n",
       "3    SYX               0.29               0.24          0.24   \n",
       "4   MNRO               0.64               0.67          0.67   \n",
       "\n",
       "  Wall_Street_Conses Quarter  \n",
       "0                  0      Q1  \n",
       "1               1.24      Q1  \n",
       "2               1.92      Q1  \n",
       "3               0.24      Q1  \n",
       "4               0.67      Q1  "
      ]
     },
     "execution_count": 24,
     "metadata": {},
     "output_type": "execute_result"
    }
   ],
   "source": [
    "eps_q1.replace(' ', 0, inplace = True)\n",
    "eps_q1.head()"
   ]
  },
  {
   "cell_type": "code",
   "execution_count": null,
   "metadata": {},
   "outputs": [],
   "source": []
  },
  {
   "cell_type": "code",
   "execution_count": 25,
   "metadata": {},
   "outputs": [],
   "source": [
    "eps_q2 = pd.read_csv(\"EPS_Q2_2019_updated.csv\", index_col = \"Unnamed: 0\")\n",
    "eps_q2[\"Quarter\"] = \"Q2\""
   ]
  },
  {
   "cell_type": "code",
   "execution_count": 26,
   "metadata": {},
   "outputs": [],
   "source": [
    "eps_q2[\"Wall_Street_Conses\"].replace(' ', 0, inplace = True)"
   ]
  },
  {
   "cell_type": "code",
   "execution_count": 27,
   "metadata": {},
   "outputs": [
    {
     "data": {
      "text/html": [
       "<div>\n",
       "<style scoped>\n",
       "    .dataframe tbody tr th:only-of-type {\n",
       "        vertical-align: middle;\n",
       "    }\n",
       "\n",
       "    .dataframe tbody tr th {\n",
       "        vertical-align: top;\n",
       "    }\n",
       "\n",
       "    .dataframe thead th {\n",
       "        text-align: right;\n",
       "    }\n",
       "</style>\n",
       "<table border=\"1\" class=\"dataframe\">\n",
       "  <thead>\n",
       "    <tr style=\"text-align: right;\">\n",
       "      <th></th>\n",
       "      <th>Ticker</th>\n",
       "      <th>Reported_Earnings</th>\n",
       "      <th>Estimate_Consensus</th>\n",
       "      <th>Estimate_Mean</th>\n",
       "      <th>Wall_Street_Conses</th>\n",
       "      <th>Quarter</th>\n",
       "    </tr>\n",
       "  </thead>\n",
       "  <tbody>\n",
       "    <tr>\n",
       "      <th>0</th>\n",
       "      <td>GNC</td>\n",
       "      <td>0.13</td>\n",
       "      <td>0.07</td>\n",
       "      <td>0.09</td>\n",
       "      <td>0.07</td>\n",
       "      <td>Q2</td>\n",
       "    </tr>\n",
       "    <tr>\n",
       "      <th>1</th>\n",
       "      <td>PAG</td>\n",
       "      <td>1.42</td>\n",
       "      <td>1.60</td>\n",
       "      <td>1.59</td>\n",
       "      <td>1.59</td>\n",
       "      <td>Q2</td>\n",
       "    </tr>\n",
       "    <tr>\n",
       "      <th>2</th>\n",
       "      <td>ABG</td>\n",
       "      <td>2.38</td>\n",
       "      <td>2.33</td>\n",
       "      <td>2.25</td>\n",
       "      <td>2.27</td>\n",
       "      <td>Q2</td>\n",
       "    </tr>\n",
       "    <tr>\n",
       "      <th>3</th>\n",
       "      <td>SYX</td>\n",
       "      <td>0.43</td>\n",
       "      <td>0.38</td>\n",
       "      <td>0.39</td>\n",
       "      <td>0.41</td>\n",
       "      <td>Q2</td>\n",
       "    </tr>\n",
       "    <tr>\n",
       "      <th>4</th>\n",
       "      <td>MNRO</td>\n",
       "      <td>0.68</td>\n",
       "      <td>0.64</td>\n",
       "      <td>0.64</td>\n",
       "      <td>0.64</td>\n",
       "      <td>Q2</td>\n",
       "    </tr>\n",
       "  </tbody>\n",
       "</table>\n",
       "</div>"
      ],
      "text/plain": [
       "  Ticker  Reported_Earnings Estimate_Consensus Estimate_Mean  \\\n",
       "0    GNC               0.13               0.07          0.09   \n",
       "1    PAG               1.42               1.60          1.59   \n",
       "2    ABG               2.38               2.33          2.25   \n",
       "3    SYX               0.43               0.38          0.39   \n",
       "4   MNRO               0.68               0.64          0.64   \n",
       "\n",
       "  Wall_Street_Conses Quarter  \n",
       "0               0.07      Q2  \n",
       "1               1.59      Q2  \n",
       "2               2.27      Q2  \n",
       "3               0.41      Q2  \n",
       "4               0.64      Q2  "
      ]
     },
     "execution_count": 27,
     "metadata": {},
     "output_type": "execute_result"
    }
   ],
   "source": [
    "eps_q2.replace(' ', 0, inplace = True)\n",
    "eps_q2.head()"
   ]
  },
  {
   "cell_type": "code",
   "execution_count": null,
   "metadata": {},
   "outputs": [],
   "source": []
  },
  {
   "cell_type": "code",
   "execution_count": 28,
   "metadata": {},
   "outputs": [],
   "source": [
    "eps_q3 = pd.read_csv(\"EPS_Q3_2019_updated.csv\", index_col = \"Unnamed: 0\")\n",
    "eps_q3[\"Quarter\"] = \"Q3\""
   ]
  },
  {
   "cell_type": "code",
   "execution_count": 29,
   "metadata": {},
   "outputs": [],
   "source": [
    "eps_q3[\"Wall_Street_Conses\"].replace(' ', 0, inplace = True)"
   ]
  },
  {
   "cell_type": "code",
   "execution_count": 30,
   "metadata": {},
   "outputs": [
    {
     "data": {
      "text/html": [
       "<div>\n",
       "<style scoped>\n",
       "    .dataframe tbody tr th:only-of-type {\n",
       "        vertical-align: middle;\n",
       "    }\n",
       "\n",
       "    .dataframe tbody tr th {\n",
       "        vertical-align: top;\n",
       "    }\n",
       "\n",
       "    .dataframe thead th {\n",
       "        text-align: right;\n",
       "    }\n",
       "</style>\n",
       "<table border=\"1\" class=\"dataframe\">\n",
       "  <thead>\n",
       "    <tr style=\"text-align: right;\">\n",
       "      <th></th>\n",
       "      <th>Ticker</th>\n",
       "      <th>Reported_Earnings</th>\n",
       "      <th>Estimate_Consensus</th>\n",
       "      <th>Estimate_Mean</th>\n",
       "      <th>Wall_Street_Conses</th>\n",
       "      <th>Quarter</th>\n",
       "    </tr>\n",
       "  </thead>\n",
       "  <tbody>\n",
       "    <tr>\n",
       "      <th>0</th>\n",
       "      <td>GNC</td>\n",
       "      <td>-0.02</td>\n",
       "      <td>-0.04</td>\n",
       "      <td>-0.01</td>\n",
       "      <td>-0.02</td>\n",
       "      <td>Q3</td>\n",
       "    </tr>\n",
       "    <tr>\n",
       "      <th>1</th>\n",
       "      <td>PAG</td>\n",
       "      <td>1.42</td>\n",
       "      <td>1.37</td>\n",
       "      <td>1.42</td>\n",
       "      <td>1.41</td>\n",
       "      <td>Q3</td>\n",
       "    </tr>\n",
       "    <tr>\n",
       "      <th>2</th>\n",
       "      <td>ABG</td>\n",
       "      <td>2.33</td>\n",
       "      <td>2.43</td>\n",
       "      <td>2.35</td>\n",
       "      <td>2.35</td>\n",
       "      <td>Q3</td>\n",
       "    </tr>\n",
       "    <tr>\n",
       "      <th>3</th>\n",
       "      <td>SYX</td>\n",
       "      <td>0.36</td>\n",
       "      <td>0.40</td>\n",
       "      <td>0.41</td>\n",
       "      <td>0.40</td>\n",
       "      <td>Q3</td>\n",
       "    </tr>\n",
       "    <tr>\n",
       "      <th>4</th>\n",
       "      <td>MNRO</td>\n",
       "      <td>0.61</td>\n",
       "      <td>0.59</td>\n",
       "      <td>0.59</td>\n",
       "      <td>0.58</td>\n",
       "      <td>Q3</td>\n",
       "    </tr>\n",
       "  </tbody>\n",
       "</table>\n",
       "</div>"
      ],
      "text/plain": [
       "  Ticker  Reported_Earnings Estimate_Consensus Estimate_Mean  \\\n",
       "0    GNC              -0.02              -0.04         -0.01   \n",
       "1    PAG               1.42               1.37          1.42   \n",
       "2    ABG               2.33               2.43          2.35   \n",
       "3    SYX               0.36               0.40          0.41   \n",
       "4   MNRO               0.61               0.59          0.59   \n",
       "\n",
       "  Wall_Street_Conses Quarter  \n",
       "0              -0.02      Q3  \n",
       "1               1.41      Q3  \n",
       "2               2.35      Q3  \n",
       "3               0.40      Q3  \n",
       "4               0.58      Q3  "
      ]
     },
     "execution_count": 30,
     "metadata": {},
     "output_type": "execute_result"
    }
   ],
   "source": [
    "eps_q3.replace(' ', 0, inplace = True)\n",
    "eps_q3.head()"
   ]
  },
  {
   "cell_type": "code",
   "execution_count": null,
   "metadata": {},
   "outputs": [],
   "source": []
  },
  {
   "cell_type": "code",
   "execution_count": 31,
   "metadata": {},
   "outputs": [],
   "source": [
    "eps_q4 = pd.read_csv(\"EPS_Q4_2019_updated.csv\", index_col = \"Unnamed: 0\")\n",
    "eps_q4[\"Quarter\"] = \"Q4\""
   ]
  },
  {
   "cell_type": "code",
   "execution_count": 32,
   "metadata": {},
   "outputs": [],
   "source": [
    "eps_q4[\"Wall_Street_Conses\"].replace(' ', 0, inplace = True)"
   ]
  },
  {
   "cell_type": "code",
   "execution_count": 33,
   "metadata": {},
   "outputs": [
    {
     "data": {
      "text/html": [
       "<div>\n",
       "<style scoped>\n",
       "    .dataframe tbody tr th:only-of-type {\n",
       "        vertical-align: middle;\n",
       "    }\n",
       "\n",
       "    .dataframe tbody tr th {\n",
       "        vertical-align: top;\n",
       "    }\n",
       "\n",
       "    .dataframe thead th {\n",
       "        text-align: right;\n",
       "    }\n",
       "</style>\n",
       "<table border=\"1\" class=\"dataframe\">\n",
       "  <thead>\n",
       "    <tr style=\"text-align: right;\">\n",
       "      <th></th>\n",
       "      <th>Ticker</th>\n",
       "      <th>Reported_Earnings</th>\n",
       "      <th>Estimate_Consensus</th>\n",
       "      <th>Estimate_Mean</th>\n",
       "      <th>Wall_Street_Conses</th>\n",
       "      <th>Quarter</th>\n",
       "    </tr>\n",
       "  </thead>\n",
       "  <tbody>\n",
       "    <tr>\n",
       "      <th>0</th>\n",
       "      <td>GNC</td>\n",
       "      <td>-0.07</td>\n",
       "      <td>0</td>\n",
       "      <td>0.01</td>\n",
       "      <td>-0.52</td>\n",
       "      <td>Q4</td>\n",
       "    </tr>\n",
       "    <tr>\n",
       "      <th>1</th>\n",
       "      <td>PAG</td>\n",
       "      <td>1.25</td>\n",
       "      <td>1.21</td>\n",
       "      <td>1.23</td>\n",
       "      <td>1.20</td>\n",
       "      <td>Q4</td>\n",
       "    </tr>\n",
       "    <tr>\n",
       "      <th>2</th>\n",
       "      <td>ABG</td>\n",
       "      <td>2.53</td>\n",
       "      <td>2.39</td>\n",
       "      <td>2.35</td>\n",
       "      <td>2.35</td>\n",
       "      <td>Q4</td>\n",
       "    </tr>\n",
       "    <tr>\n",
       "      <th>3</th>\n",
       "      <td>SYX</td>\n",
       "      <td>0.30</td>\n",
       "      <td>0.26</td>\n",
       "      <td>0.25</td>\n",
       "      <td>0.25</td>\n",
       "      <td>Q4</td>\n",
       "    </tr>\n",
       "    <tr>\n",
       "      <th>4</th>\n",
       "      <td>MNRO</td>\n",
       "      <td>0.51</td>\n",
       "      <td>0.53</td>\n",
       "      <td>0.52</td>\n",
       "      <td>0.51</td>\n",
       "      <td>Q4</td>\n",
       "    </tr>\n",
       "  </tbody>\n",
       "</table>\n",
       "</div>"
      ],
      "text/plain": [
       "  Ticker  Reported_Earnings Estimate_Consensus Estimate_Mean  \\\n",
       "0    GNC              -0.07                  0          0.01   \n",
       "1    PAG               1.25               1.21          1.23   \n",
       "2    ABG               2.53               2.39          2.35   \n",
       "3    SYX               0.30               0.26          0.25   \n",
       "4   MNRO               0.51               0.53          0.52   \n",
       "\n",
       "  Wall_Street_Conses Quarter  \n",
       "0              -0.52      Q4  \n",
       "1               1.20      Q4  \n",
       "2               2.35      Q4  \n",
       "3               0.25      Q4  \n",
       "4               0.51      Q4  "
      ]
     },
     "execution_count": 33,
     "metadata": {},
     "output_type": "execute_result"
    }
   ],
   "source": [
    "eps_q4.replace(' ', 0, inplace = True)\n",
    "eps_q4.head()"
   ]
  },
  {
   "cell_type": "code",
   "execution_count": null,
   "metadata": {},
   "outputs": [],
   "source": []
  },
  {
   "cell_type": "code",
   "execution_count": 57,
   "metadata": {},
   "outputs": [],
   "source": [
    "eps = pd.concat([eps_q1, eps_q2, eps_q3, eps_q4])"
   ]
  },
  {
   "cell_type": "code",
   "execution_count": 58,
   "metadata": {},
   "outputs": [],
   "source": [
    "eps.reset_index(inplace = True)"
   ]
  },
  {
   "cell_type": "code",
   "execution_count": 59,
   "metadata": {},
   "outputs": [],
   "source": [
    "eps.drop('index', axis=1, inplace = True)"
   ]
  },
  {
   "cell_type": "code",
   "execution_count": 60,
   "metadata": {},
   "outputs": [],
   "source": [
    "eps.fillna(0, inplace = True)"
   ]
  },
  {
   "cell_type": "code",
   "execution_count": 61,
   "metadata": {},
   "outputs": [
    {
     "data": {
      "text/plain": [
       "Ticker                0\n",
       "Reported_Earnings     0\n",
       "Estimate_Consensus    0\n",
       "Estimate_Mean         0\n",
       "Wall_Street_Conses    0\n",
       "Quarter               0\n",
       "dtype: int64"
      ]
     },
     "execution_count": 61,
     "metadata": {},
     "output_type": "execute_result"
    }
   ],
   "source": [
    "eps.isna().sum()"
   ]
  },
  {
   "cell_type": "code",
   "execution_count": 139,
   "metadata": {},
   "outputs": [
    {
     "data": {
      "text/html": [
       "<div>\n",
       "<style scoped>\n",
       "    .dataframe tbody tr th:only-of-type {\n",
       "        vertical-align: middle;\n",
       "    }\n",
       "\n",
       "    .dataframe tbody tr th {\n",
       "        vertical-align: top;\n",
       "    }\n",
       "\n",
       "    .dataframe thead th {\n",
       "        text-align: right;\n",
       "    }\n",
       "</style>\n",
       "<table border=\"1\" class=\"dataframe\">\n",
       "  <thead>\n",
       "    <tr style=\"text-align: right;\">\n",
       "      <th></th>\n",
       "      <th>Ticker</th>\n",
       "      <th>Name</th>\n",
       "      <th>Followers</th>\n",
       "      <th>Analysts</th>\n",
       "      <th>Reported_Earnings</th>\n",
       "      <th>Estimate_Consensus</th>\n",
       "      <th>Estimate_Mean</th>\n",
       "      <th>Wall_Street_Conses</th>\n",
       "      <th>Quarter</th>\n",
       "    </tr>\n",
       "  </thead>\n",
       "  <tbody>\n",
       "    <tr>\n",
       "      <th>0</th>\n",
       "      <td>GNC</td>\n",
       "      <td>GNC Holdings Inc.</td>\n",
       "      <td>130</td>\n",
       "      <td>185</td>\n",
       "      <td>0.15</td>\n",
       "      <td>0.02</td>\n",
       "      <td>0.07</td>\n",
       "      <td>0</td>\n",
       "      <td>Q1</td>\n",
       "    </tr>\n",
       "    <tr>\n",
       "      <th>1</th>\n",
       "      <td>GNC</td>\n",
       "      <td>GNC Holdings Inc.</td>\n",
       "      <td>130</td>\n",
       "      <td>185</td>\n",
       "      <td>0.13</td>\n",
       "      <td>0.07</td>\n",
       "      <td>0.09</td>\n",
       "      <td>0.07</td>\n",
       "      <td>Q2</td>\n",
       "    </tr>\n",
       "    <tr>\n",
       "      <th>2</th>\n",
       "      <td>GNC</td>\n",
       "      <td>GNC Holdings Inc.</td>\n",
       "      <td>130</td>\n",
       "      <td>185</td>\n",
       "      <td>-0.02</td>\n",
       "      <td>-0.04</td>\n",
       "      <td>-0.01</td>\n",
       "      <td>-0.02</td>\n",
       "      <td>Q3</td>\n",
       "    </tr>\n",
       "    <tr>\n",
       "      <th>3</th>\n",
       "      <td>GNC</td>\n",
       "      <td>GNC Holdings Inc.</td>\n",
       "      <td>130</td>\n",
       "      <td>185</td>\n",
       "      <td>-0.07</td>\n",
       "      <td>0</td>\n",
       "      <td>0.01</td>\n",
       "      <td>-0.52</td>\n",
       "      <td>Q4</td>\n",
       "    </tr>\n",
       "    <tr>\n",
       "      <th>4</th>\n",
       "      <td>PAG</td>\n",
       "      <td>Penske Automotive Group, Inc.</td>\n",
       "      <td>51</td>\n",
       "      <td>84</td>\n",
       "      <td>1.25</td>\n",
       "      <td>1.23</td>\n",
       "      <td>1.23</td>\n",
       "      <td>1.24</td>\n",
       "      <td>Q1</td>\n",
       "    </tr>\n",
       "  </tbody>\n",
       "</table>\n",
       "</div>"
      ],
      "text/plain": [
       "  Ticker                           Name Followers Analysts  Reported_Earnings  \\\n",
       "0    GNC              GNC Holdings Inc.       130      185               0.15   \n",
       "1    GNC              GNC Holdings Inc.       130      185               0.13   \n",
       "2    GNC              GNC Holdings Inc.       130      185              -0.02   \n",
       "3    GNC              GNC Holdings Inc.       130      185              -0.07   \n",
       "4    PAG  Penske Automotive Group, Inc.        51       84               1.25   \n",
       "\n",
       "  Estimate_Consensus Estimate_Mean Wall_Street_Conses Quarter  \n",
       "0               0.02          0.07                  0      Q1  \n",
       "1               0.07          0.09               0.07      Q2  \n",
       "2              -0.04         -0.01              -0.02      Q3  \n",
       "3                  0          0.01              -0.52      Q4  \n",
       "4               1.23          1.23               1.24      Q1  "
      ]
     },
     "execution_count": 139,
     "metadata": {},
     "output_type": "execute_result"
    }
   ],
   "source": [
    "df = pd.merge(company,eps,how = 'inner', on = 'Ticker')\n",
    "df.drop([\"Sector\", \"Industry\"], axis = 1, inplace=True)\n",
    "df.head()"
   ]
  },
  {
   "cell_type": "code",
   "execution_count": 140,
   "metadata": {},
   "outputs": [],
   "source": [
    "df = pd.get_dummies(df,columns = [\"Quarter\"])"
   ]
  },
  {
   "cell_type": "code",
   "execution_count": 141,
   "metadata": {},
   "outputs": [],
   "source": [
    "df.drop([\"Ticker\", \"Name\"], axis=1, inplace = True)"
   ]
  },
  {
   "cell_type": "code",
   "execution_count": 142,
   "metadata": {},
   "outputs": [],
   "source": [
    "df[\"Followers\"] = df[\"Followers\"].apply(lambda x:x.replace(',', ''))"
   ]
  },
  {
   "cell_type": "code",
   "execution_count": 143,
   "metadata": {},
   "outputs": [],
   "source": [
    "df[\"Analysts\"] = df[\"Analysts\"].apply(lambda x:x.replace(',', ''))"
   ]
  },
  {
   "cell_type": "code",
   "execution_count": 144,
   "metadata": {},
   "outputs": [
    {
     "data": {
      "text/plain": [
       "array(['185', '84', '28', '162', '160', '292', '45', '5', '114', '54',\n",
       "       '47', '42', '266', '99', '41', '67', '111', '48', '22', '109',\n",
       "       '105', '276', '91', '43', '50', '1807', '218', '687', '498', '471',\n",
       "       '165', '213', '71', '33', '460', '370', '117', '722', '238', '146',\n",
       "       '636', '826', '588', '602', '539', '154', '568'], dtype=object)"
      ]
     },
     "execution_count": 144,
     "metadata": {},
     "output_type": "execute_result"
    }
   ],
   "source": [
    "df[\"Analysts\"].unique()"
   ]
  },
  {
   "cell_type": "code",
   "execution_count": 145,
   "metadata": {},
   "outputs": [],
   "source": [
    "df[[\"Followers\", \"Analysts\", \"Reported_Earnings\", \"Estimate_Consensus\", \"Estimate_Mean\", \"Wall_Street_Conses\"]] = df[[\"Followers\", \"Analysts\", \"Reported_Earnings\", \"Estimate_Consensus\", \"Estimate_Mean\", \"Wall_Street_Conses\"]].astype('float32')"
   ]
  },
  {
   "cell_type": "code",
   "execution_count": 146,
   "metadata": {},
   "outputs": [
    {
     "data": {
      "text/plain": [
       "Followers             float32\n",
       "Analysts              float32\n",
       "Reported_Earnings     float32\n",
       "Estimate_Consensus    float32\n",
       "Estimate_Mean         float32\n",
       "Wall_Street_Conses    float32\n",
       "Quarter_Q1              uint8\n",
       "Quarter_Q2              uint8\n",
       "Quarter_Q3              uint8\n",
       "Quarter_Q4              uint8\n",
       "dtype: object"
      ]
     },
     "execution_count": 146,
     "metadata": {},
     "output_type": "execute_result"
    }
   ],
   "source": [
    "df.dtypes"
   ]
  },
  {
   "cell_type": "code",
   "execution_count": 147,
   "metadata": {},
   "outputs": [
    {
     "data": {
      "text/html": [
       "<div>\n",
       "<style scoped>\n",
       "    .dataframe tbody tr th:only-of-type {\n",
       "        vertical-align: middle;\n",
       "    }\n",
       "\n",
       "    .dataframe tbody tr th {\n",
       "        vertical-align: top;\n",
       "    }\n",
       "\n",
       "    .dataframe thead th {\n",
       "        text-align: right;\n",
       "    }\n",
       "</style>\n",
       "<table border=\"1\" class=\"dataframe\">\n",
       "  <thead>\n",
       "    <tr style=\"text-align: right;\">\n",
       "      <th></th>\n",
       "      <th>Followers</th>\n",
       "      <th>Analysts</th>\n",
       "      <th>Reported_Earnings</th>\n",
       "      <th>Estimate_Consensus</th>\n",
       "      <th>Estimate_Mean</th>\n",
       "      <th>Wall_Street_Conses</th>\n",
       "      <th>Quarter_Q1</th>\n",
       "      <th>Quarter_Q2</th>\n",
       "      <th>Quarter_Q3</th>\n",
       "      <th>Quarter_Q4</th>\n",
       "    </tr>\n",
       "  </thead>\n",
       "  <tbody>\n",
       "    <tr>\n",
       "      <th>Followers</th>\n",
       "      <td>1.000000e+00</td>\n",
       "      <td>9.781564e-01</td>\n",
       "      <td>0.328203</td>\n",
       "      <td>0.302757</td>\n",
       "      <td>0.290956</td>\n",
       "      <td>0.282030</td>\n",
       "      <td>1.163598e-16</td>\n",
       "      <td>4.857063e-17</td>\n",
       "      <td>-2.515888e-17</td>\n",
       "      <td>-3.214746e-17</td>\n",
       "    </tr>\n",
       "    <tr>\n",
       "      <th>Analysts</th>\n",
       "      <td>9.781564e-01</td>\n",
       "      <td>1.000000e+00</td>\n",
       "      <td>0.298591</td>\n",
       "      <td>0.264235</td>\n",
       "      <td>0.250299</td>\n",
       "      <td>0.245266</td>\n",
       "      <td>1.348840e-16</td>\n",
       "      <td>7.811814e-17</td>\n",
       "      <td>-1.926914e-17</td>\n",
       "      <td>-2.812253e-17</td>\n",
       "    </tr>\n",
       "    <tr>\n",
       "      <th>Reported_Earnings</th>\n",
       "      <td>3.282029e-01</td>\n",
       "      <td>2.985912e-01</td>\n",
       "      <td>1.000000</td>\n",
       "      <td>0.662957</td>\n",
       "      <td>0.595094</td>\n",
       "      <td>0.599236</td>\n",
       "      <td>-7.402686e-02</td>\n",
       "      <td>-8.751433e-03</td>\n",
       "      <td>5.364116e-02</td>\n",
       "      <td>2.913714e-02</td>\n",
       "    </tr>\n",
       "    <tr>\n",
       "      <th>Estimate_Consensus</th>\n",
       "      <td>3.027570e-01</td>\n",
       "      <td>2.642347e-01</td>\n",
       "      <td>0.662957</td>\n",
       "      <td>1.000000</td>\n",
       "      <td>0.970992</td>\n",
       "      <td>0.980536</td>\n",
       "      <td>-1.034620e-01</td>\n",
       "      <td>-3.668867e-03</td>\n",
       "      <td>-5.249301e-03</td>\n",
       "      <td>1.123802e-01</td>\n",
       "    </tr>\n",
       "    <tr>\n",
       "      <th>Estimate_Mean</th>\n",
       "      <td>2.909560e-01</td>\n",
       "      <td>2.502991e-01</td>\n",
       "      <td>0.595094</td>\n",
       "      <td>0.970992</td>\n",
       "      <td>1.000000</td>\n",
       "      <td>0.948465</td>\n",
       "      <td>-1.010186e-01</td>\n",
       "      <td>3.601870e-03</td>\n",
       "      <td>5.929227e-03</td>\n",
       "      <td>9.148746e-02</td>\n",
       "    </tr>\n",
       "    <tr>\n",
       "      <th>Wall_Street_Conses</th>\n",
       "      <td>2.820297e-01</td>\n",
       "      <td>2.452664e-01</td>\n",
       "      <td>0.599236</td>\n",
       "      <td>0.980536</td>\n",
       "      <td>0.948465</td>\n",
       "      <td>1.000000</td>\n",
       "      <td>-1.109397e-01</td>\n",
       "      <td>8.420625e-03</td>\n",
       "      <td>-7.712093e-03</td>\n",
       "      <td>1.102311e-01</td>\n",
       "    </tr>\n",
       "    <tr>\n",
       "      <th>Quarter_Q1</th>\n",
       "      <td>1.163598e-16</td>\n",
       "      <td>1.348840e-16</td>\n",
       "      <td>-0.074027</td>\n",
       "      <td>-0.103462</td>\n",
       "      <td>-0.101019</td>\n",
       "      <td>-0.110940</td>\n",
       "      <td>1.000000e+00</td>\n",
       "      <td>-3.333333e-01</td>\n",
       "      <td>-3.333333e-01</td>\n",
       "      <td>-3.333333e-01</td>\n",
       "    </tr>\n",
       "    <tr>\n",
       "      <th>Quarter_Q2</th>\n",
       "      <td>4.857063e-17</td>\n",
       "      <td>7.811814e-17</td>\n",
       "      <td>-0.008751</td>\n",
       "      <td>-0.003669</td>\n",
       "      <td>0.003602</td>\n",
       "      <td>0.008421</td>\n",
       "      <td>-3.333333e-01</td>\n",
       "      <td>1.000000e+00</td>\n",
       "      <td>-3.333333e-01</td>\n",
       "      <td>-3.333333e-01</td>\n",
       "    </tr>\n",
       "    <tr>\n",
       "      <th>Quarter_Q3</th>\n",
       "      <td>-2.515888e-17</td>\n",
       "      <td>-1.926914e-17</td>\n",
       "      <td>0.053641</td>\n",
       "      <td>-0.005249</td>\n",
       "      <td>0.005929</td>\n",
       "      <td>-0.007712</td>\n",
       "      <td>-3.333333e-01</td>\n",
       "      <td>-3.333333e-01</td>\n",
       "      <td>1.000000e+00</td>\n",
       "      <td>-3.333333e-01</td>\n",
       "    </tr>\n",
       "    <tr>\n",
       "      <th>Quarter_Q4</th>\n",
       "      <td>-3.214746e-17</td>\n",
       "      <td>-2.812253e-17</td>\n",
       "      <td>0.029137</td>\n",
       "      <td>0.112380</td>\n",
       "      <td>0.091487</td>\n",
       "      <td>0.110231</td>\n",
       "      <td>-3.333333e-01</td>\n",
       "      <td>-3.333333e-01</td>\n",
       "      <td>-3.333333e-01</td>\n",
       "      <td>1.000000e+00</td>\n",
       "    </tr>\n",
       "  </tbody>\n",
       "</table>\n",
       "</div>"
      ],
      "text/plain": [
       "                       Followers      Analysts  Reported_Earnings  \\\n",
       "Followers           1.000000e+00  9.781564e-01           0.328203   \n",
       "Analysts            9.781564e-01  1.000000e+00           0.298591   \n",
       "Reported_Earnings   3.282029e-01  2.985912e-01           1.000000   \n",
       "Estimate_Consensus  3.027570e-01  2.642347e-01           0.662957   \n",
       "Estimate_Mean       2.909560e-01  2.502991e-01           0.595094   \n",
       "Wall_Street_Conses  2.820297e-01  2.452664e-01           0.599236   \n",
       "Quarter_Q1          1.163598e-16  1.348840e-16          -0.074027   \n",
       "Quarter_Q2          4.857063e-17  7.811814e-17          -0.008751   \n",
       "Quarter_Q3         -2.515888e-17 -1.926914e-17           0.053641   \n",
       "Quarter_Q4         -3.214746e-17 -2.812253e-17           0.029137   \n",
       "\n",
       "                    Estimate_Consensus  Estimate_Mean  Wall_Street_Conses  \\\n",
       "Followers                     0.302757       0.290956            0.282030   \n",
       "Analysts                      0.264235       0.250299            0.245266   \n",
       "Reported_Earnings             0.662957       0.595094            0.599236   \n",
       "Estimate_Consensus            1.000000       0.970992            0.980536   \n",
       "Estimate_Mean                 0.970992       1.000000            0.948465   \n",
       "Wall_Street_Conses            0.980536       0.948465            1.000000   \n",
       "Quarter_Q1                   -0.103462      -0.101019           -0.110940   \n",
       "Quarter_Q2                   -0.003669       0.003602            0.008421   \n",
       "Quarter_Q3                   -0.005249       0.005929           -0.007712   \n",
       "Quarter_Q4                    0.112380       0.091487            0.110231   \n",
       "\n",
       "                      Quarter_Q1    Quarter_Q2    Quarter_Q3    Quarter_Q4  \n",
       "Followers           1.163598e-16  4.857063e-17 -2.515888e-17 -3.214746e-17  \n",
       "Analysts            1.348840e-16  7.811814e-17 -1.926914e-17 -2.812253e-17  \n",
       "Reported_Earnings  -7.402686e-02 -8.751433e-03  5.364116e-02  2.913714e-02  \n",
       "Estimate_Consensus -1.034620e-01 -3.668867e-03 -5.249301e-03  1.123802e-01  \n",
       "Estimate_Mean      -1.010186e-01  3.601870e-03  5.929227e-03  9.148746e-02  \n",
       "Wall_Street_Conses -1.109397e-01  8.420625e-03 -7.712093e-03  1.102311e-01  \n",
       "Quarter_Q1          1.000000e+00 -3.333333e-01 -3.333333e-01 -3.333333e-01  \n",
       "Quarter_Q2         -3.333333e-01  1.000000e+00 -3.333333e-01 -3.333333e-01  \n",
       "Quarter_Q3         -3.333333e-01 -3.333333e-01  1.000000e+00 -3.333333e-01  \n",
       "Quarter_Q4         -3.333333e-01 -3.333333e-01 -3.333333e-01  1.000000e+00  "
      ]
     },
     "execution_count": 147,
     "metadata": {},
     "output_type": "execute_result"
    }
   ],
   "source": [
    "df.corr()"
   ]
  },
  {
   "cell_type": "code",
   "execution_count": 148,
   "metadata": {},
   "outputs": [
    {
     "name": "stdout",
     "output_type": "stream",
     "text": [
      "-5.599999904632568 5.079999923706055\n"
     ]
    }
   ],
   "source": [
    "print(min(df[\"Reported_Earnings\"]), max(df[\"Reported_Earnings\"]))"
   ]
  },
  {
   "cell_type": "code",
   "execution_count": null,
   "metadata": {},
   "outputs": [],
   "source": []
  },
  {
   "cell_type": "code",
   "execution_count": 149,
   "metadata": {},
   "outputs": [],
   "source": [
    "X = df.drop(\"Reported_Earnings\", axis = 1)\n",
    "y = df[\"Reported_Earnings\"]"
   ]
  },
  {
   "cell_type": "code",
   "execution_count": 150,
   "metadata": {},
   "outputs": [],
   "source": [
    "from sklearn.model_selection import train_test_split"
   ]
  },
  {
   "cell_type": "code",
   "execution_count": 151,
   "metadata": {},
   "outputs": [],
   "source": [
    "x_tr, x_ts, y_tr, y_ts = train_test_split(X,y,test_size = 0.3, random_state = 51)"
   ]
  },
  {
   "cell_type": "code",
   "execution_count": 152,
   "metadata": {},
   "outputs": [
    {
     "data": {
      "text/plain": [
       "LinearRegression()"
      ]
     },
     "execution_count": 152,
     "metadata": {},
     "output_type": "execute_result"
    }
   ],
   "source": [
    "from sklearn.linear_model import LinearRegression\n",
    "\n",
    "lr = LinearRegression()\n",
    "lr.fit(x_tr, y_tr)"
   ]
  },
  {
   "cell_type": "code",
   "execution_count": 153,
   "metadata": {},
   "outputs": [],
   "source": [
    "y_pred = lr.predict(x_ts)"
   ]
  },
  {
   "cell_type": "code",
   "execution_count": 154,
   "metadata": {},
   "outputs": [
    {
     "name": "stdout",
     "output_type": "stream",
     "text": [
      "0.4508893616809272\n",
      "0.48102853\n"
     ]
    }
   ],
   "source": [
    "from sklearn.metrics import r2_score\n",
    "from sklearn.metrics import mean_squared_error\n",
    "\n",
    "\n",
    "print(r2_score(y_pred, y_ts))\n",
    "print(np.sqrt(mean_squared_error(y_ts,y_pred)))"
   ]
  },
  {
   "cell_type": "code",
   "execution_count": 155,
   "metadata": {},
   "outputs": [],
   "source": [
    "import matplotlib.pyplot as plt\n",
    "%matplotlib inline"
   ]
  },
  {
   "cell_type": "code",
   "execution_count": 162,
   "metadata": {},
   "outputs": [
    {
     "name": "stderr",
     "output_type": "stream",
     "text": [
      "C:\\Users\\Mit Patel\\anaconda3\\lib\\site-packages\\statsmodels\\tsa\\tsatools.py:130: FutureWarning: In a future version of pandas all arguments of concat except for the argument 'objs' will be keyword-only\n",
      "  x = pd.concat(x[::order], 1)\n"
     ]
    }
   ],
   "source": [
    "import statsmodels.api as sm\n",
    "\n",
    "X = sm.add_constant(X)\n",
    "\n",
    "ols = sm.OLS(y,X)\n",
    "ols_m = ols.fit()"
   ]
  },
  {
   "cell_type": "code",
   "execution_count": 163,
   "metadata": {},
   "outputs": [
    {
     "name": "stdout",
     "output_type": "stream",
     "text": [
      "                            OLS Regression Results                            \n",
      "==============================================================================\n",
      "Dep. Variable:      Reported_Earnings   R-squared:                       0.575\n",
      "Model:                            OLS   Adj. R-squared:                  0.558\n",
      "Method:                 Least Squares   F-statistic:                     33.02\n",
      "Date:                Thu, 09 Dec 2021   Prob (F-statistic):           1.74e-32\n",
      "Time:                        18:23:15   Log-Likelihood:                -221.47\n",
      "No. Observations:                 204   AIC:                             460.9\n",
      "Df Residuals:                     195   BIC:                             490.8\n",
      "Df Model:                           8                                         \n",
      "Covariance Type:            nonrobust                                         \n",
      "======================================================================================\n",
      "                         coef    std err          t      P>|t|      [0.025      0.975]\n",
      "--------------------------------------------------------------------------------------\n",
      "const                  0.1231      0.065      1.897      0.059      -0.005       0.251\n",
      "Followers              0.0011      0.001      0.953      0.342      -0.001       0.003\n",
      "Analysts              -0.0004      0.001     -0.472      0.637      -0.002       0.001\n",
      "Estimate_Consensus     3.1834      0.350      9.090      0.000       2.493       3.874\n",
      "Estimate_Mean         -1.0356      0.212     -4.887      0.000      -1.454      -0.618\n",
      "Wall_Street_Conses    -1.4479      0.254     -5.703      0.000      -1.949      -0.947\n",
      "Quarter_Q1            -0.0122      0.090     -0.135      0.893      -0.190       0.166\n",
      "Quarter_Q2             0.0629      0.091      0.694      0.488      -0.116       0.242\n",
      "Quarter_Q3             0.1527      0.090      1.688      0.093      -0.026       0.331\n",
      "Quarter_Q4            -0.0804      0.092     -0.874      0.383      -0.262       0.101\n",
      "==============================================================================\n",
      "Omnibus:                      197.798   Durbin-Watson:                   1.913\n",
      "Prob(Omnibus):                  0.000   Jarque-Bera (JB):             7732.679\n",
      "Skew:                          -3.480   Prob(JB):                         0.00\n",
      "Kurtosis:                      32.348   Cond. No.                     4.92e+18\n",
      "==============================================================================\n",
      "\n",
      "Warnings:\n",
      "[1] Standard Errors assume that the covariance matrix of the errors is correctly specified.\n",
      "[2] The smallest eigenvalue is  2e-30. This might indicate that there are\n",
      "strong multicollinearity problems or that the design matrix is singular.\n"
     ]
    }
   ],
   "source": [
    "print(ols_m.summary())"
   ]
  },
  {
   "cell_type": "code",
   "execution_count": null,
   "metadata": {},
   "outputs": [],
   "source": []
  }
 ],
 "metadata": {
  "kernelspec": {
   "display_name": "Python 3",
   "language": "python",
   "name": "python3"
  },
  "language_info": {
   "codemirror_mode": {
    "name": "ipython",
    "version": 3
   },
   "file_extension": ".py",
   "mimetype": "text/x-python",
   "name": "python",
   "nbconvert_exporter": "python",
   "pygments_lexer": "ipython3",
   "version": "3.8.3"
  }
 },
 "nbformat": 4,
 "nbformat_minor": 4
}
