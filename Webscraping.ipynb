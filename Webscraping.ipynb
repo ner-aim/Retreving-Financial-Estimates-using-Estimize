{
 "cells": [
  {
   "cell_type": "code",
   "execution_count": 1,
   "metadata": {},
   "outputs": [
    {
     "name": "stdout",
     "output_type": "stream",
     "text": [
      "Requirement already satisfied: shutup in c:\\users\\mit patel\\anaconda3\\lib\\site-packages (0.1.3)\n"
     ]
    }
   ],
   "source": [
    "!pip install shutup\n",
    "import shutup; shutup.please()"
   ]
  },
  {
   "cell_type": "code",
   "execution_count": 2,
   "metadata": {},
   "outputs": [
    {
     "name": "stdout",
     "output_type": "stream",
     "text": [
      "Requirement already satisfied: selenium in c:\\users\\mit patel\\anaconda3\\lib\\site-packages (4.0.0)\n",
      "Requirement already satisfied: trio~=0.17 in c:\\users\\mit patel\\anaconda3\\lib\\site-packages (from selenium) (0.19.0)\n",
      "Requirement already satisfied: urllib3[secure]~=1.26 in c:\\users\\mit patel\\anaconda3\\lib\\site-packages (from selenium) (1.26.7)\n",
      "Requirement already satisfied: trio-websocket~=0.9 in c:\\users\\mit patel\\anaconda3\\lib\\site-packages (from selenium) (0.9.2)\n",
      "Requirement already satisfied: async-generator>=1.9 in c:\\users\\mit patel\\anaconda3\\lib\\site-packages (from trio~=0.17->selenium) (1.10)\n",
      "Requirement already satisfied: idna in c:\\users\\mit patel\\anaconda3\\lib\\site-packages (from trio~=0.17->selenium) (2.10)\n",
      "Requirement already satisfied: attrs>=19.2.0 in c:\\users\\mit patel\\anaconda3\\lib\\site-packages (from trio~=0.17->selenium) (19.3.0)\n",
      "Requirement already satisfied: outcome in c:\\users\\mit patel\\anaconda3\\lib\\site-packages (from trio~=0.17->selenium) (1.1.0)\n",
      "Requirement already satisfied: cffi>=1.14; os_name == \"nt\" and implementation_name != \"pypy\" in c:\\users\\mit patel\\anaconda3\\lib\\site-packages (from trio~=0.17->selenium) (1.14.0)\n",
      "Requirement already satisfied: sortedcontainers in c:\\users\\mit patel\\anaconda3\\lib\\site-packages (from trio~=0.17->selenium) (2.2.2)\n",
      "Requirement already satisfied: sniffio in c:\\users\\mit patel\\anaconda3\\lib\\site-packages (from trio~=0.17->selenium) (1.2.0)\n",
      "Requirement already satisfied: cryptography>=1.3.4; extra == \"secure\" in c:\\users\\mit patel\\anaconda3\\lib\\site-packages (from urllib3[secure]~=1.26->selenium) (2.9.2)\n",
      "Requirement already satisfied: certifi; extra == \"secure\" in c:\\users\\mit patel\\anaconda3\\lib\\site-packages (from urllib3[secure]~=1.26->selenium) (2020.6.20)\n",
      "Requirement already satisfied: pyOpenSSL>=0.14; extra == \"secure\" in c:\\users\\mit patel\\anaconda3\\lib\\site-packages (from urllib3[secure]~=1.26->selenium) (19.1.0)\n",
      "Requirement already satisfied: wsproto>=0.14 in c:\\users\\mit patel\\anaconda3\\lib\\site-packages (from trio-websocket~=0.9->selenium) (1.0.0)\n",
      "Requirement already satisfied: pycparser in c:\\users\\mit patel\\anaconda3\\lib\\site-packages (from cffi>=1.14; os_name == \"nt\" and implementation_name != \"pypy\"->trio~=0.17->selenium) (2.20)\n",
      "Requirement already satisfied: six>=1.4.1 in c:\\users\\mit patel\\anaconda3\\lib\\site-packages (from cryptography>=1.3.4; extra == \"secure\"->urllib3[secure]~=1.26->selenium) (1.15.0)\n",
      "Requirement already satisfied: h11<1,>=0.9.0 in c:\\users\\mit patel\\anaconda3\\lib\\site-packages (from wsproto>=0.14->trio-websocket~=0.9->selenium) (0.12.0)\n"
     ]
    }
   ],
   "source": [
    "!pip install selenium"
   ]
  },
  {
   "cell_type": "code",
   "execution_count": 3,
   "metadata": {},
   "outputs": [],
   "source": [
    "import os\n",
    "import re\n",
    "import time\n",
    "import csv\n",
    "import json\n",
    "import random\n",
    "import requests\n",
    "import pandas as pd\n",
    "import numpy as np\n",
    "\n",
    "from datetime import date, timedelta, datetime\n",
    "\n",
    "import selenium\n",
    "from selenium import webdriver\n",
    "from bs4 import BeautifulSoup"
   ]
  },
  {
   "cell_type": "code",
   "execution_count": 4,
   "metadata": {},
   "outputs": [],
   "source": [
    "from selenium import webdriver\n",
    "from selenium.webdriver.support.ui import WebDriverWait\n",
    "from selenium.common.exceptions import NoSuchElementException\n",
    "from selenium.webdriver.chrome.service import Service\n",
    "from selenium.webdriver.support import expected_conditions as EC\n",
    "from selenium.common.exceptions import TimeoutException\n",
    "import time"
   ]
  },
  {
   "cell_type": "code",
   "execution_count": 5,
   "metadata": {},
   "outputs": [],
   "source": [
    "chrome_options = webdriver.ChromeOptions()\n",
    "chrome_options.headless = False\n",
    "browser = webdriver.Chrome(executable_path = './chromedriver.exe',\n",
    "                          options = chrome_options)"
   ]
  },
  {
   "cell_type": "code",
   "execution_count": 6,
   "metadata": {},
   "outputs": [],
   "source": [
    "tickers_list = pd.read_csv('./msa8040_final_project_ticker_list.csv')"
   ]
  },
  {
   "cell_type": "code",
   "execution_count": 7,
   "metadata": {},
   "outputs": [
    {
     "data": {
      "text/html": [
       "<div>\n",
       "<style scoped>\n",
       "    .dataframe tbody tr th:only-of-type {\n",
       "        vertical-align: middle;\n",
       "    }\n",
       "\n",
       "    .dataframe tbody tr th {\n",
       "        vertical-align: top;\n",
       "    }\n",
       "\n",
       "    .dataframe thead th {\n",
       "        text-align: right;\n",
       "    }\n",
       "</style>\n",
       "<table border=\"1\" class=\"dataframe\">\n",
       "  <thead>\n",
       "    <tr style=\"text-align: right;\">\n",
       "      <th></th>\n",
       "      <th>ticker</th>\n",
       "    </tr>\n",
       "  </thead>\n",
       "  <tbody>\n",
       "    <tr>\n",
       "      <th>0</th>\n",
       "      <td>GPC</td>\n",
       "    </tr>\n",
       "    <tr>\n",
       "      <th>1</th>\n",
       "      <td>ALV</td>\n",
       "    </tr>\n",
       "    <tr>\n",
       "      <th>2</th>\n",
       "      <td>GNTX</td>\n",
       "    </tr>\n",
       "    <tr>\n",
       "      <th>3</th>\n",
       "      <td>VNE</td>\n",
       "    </tr>\n",
       "    <tr>\n",
       "      <th>4</th>\n",
       "      <td>TOWR</td>\n",
       "    </tr>\n",
       "    <tr>\n",
       "      <th>...</th>\n",
       "      <td>...</td>\n",
       "    </tr>\n",
       "    <tr>\n",
       "      <th>2231</th>\n",
       "      <td>AWR</td>\n",
       "    </tr>\n",
       "    <tr>\n",
       "      <th>2232</th>\n",
       "      <td>WTRG</td>\n",
       "    </tr>\n",
       "    <tr>\n",
       "      <th>2233</th>\n",
       "      <td>AWK</td>\n",
       "    </tr>\n",
       "    <tr>\n",
       "      <th>2234</th>\n",
       "      <td>CWT</td>\n",
       "    </tr>\n",
       "    <tr>\n",
       "      <th>2235</th>\n",
       "      <td>CWCO</td>\n",
       "    </tr>\n",
       "  </tbody>\n",
       "</table>\n",
       "<p>2236 rows × 1 columns</p>\n",
       "</div>"
      ],
      "text/plain": [
       "     ticker\n",
       "0       GPC\n",
       "1       ALV\n",
       "2      GNTX\n",
       "3       VNE\n",
       "4      TOWR\n",
       "...     ...\n",
       "2231    AWR\n",
       "2232   WTRG\n",
       "2233    AWK\n",
       "2234    CWT\n",
       "2235   CWCO\n",
       "\n",
       "[2236 rows x 1 columns]"
      ]
     },
     "execution_count": 7,
     "metadata": {},
     "output_type": "execute_result"
    }
   ],
   "source": [
    "tickers_list"
   ]
  },
  {
   "cell_type": "code",
   "execution_count": 8,
   "metadata": {},
   "outputs": [],
   "source": [
    "tickers_list = tickers_list[\"ticker\"].tolist()"
   ]
  },
  {
   "cell_type": "code",
   "execution_count": 9,
   "metadata": {},
   "outputs": [],
   "source": [
    "new_tick_list = tickers_list[298:349]"
   ]
  },
  {
   "cell_type": "code",
   "execution_count": 10,
   "metadata": {},
   "outputs": [
    {
     "name": "stdout",
     "output_type": "stream",
     "text": [
      "['GNC', 'PAG', 'ABG', 'SYX', 'MNRO', 'HZO', 'ORLY', 'RCII', 'HVT', 'MUSA', 'AAN', 'GPI', 'SAH', 'FND', 'CVNA', 'XOXO', 'LL', 'CWH', 'L', 'MED', 'VSI', 'TA', 'FTD', 'ODP', 'PRTY', 'AAP', 'SBH', 'SQBG', 'CRMT', 'HD', 'BKS', 'LOW', 'TJX', 'LB', 'SCVL', 'PLCE', 'SSI', 'CATO', 'ROST', 'WSM', 'CAL', 'FL', 'HIBB', 'BKE', 'URBN', 'BBY', 'DKS', 'ANF', 'TIF', 'CHS', 'GPS']\n"
     ]
    }
   ],
   "source": [
    "print(new_tick_list)"
   ]
  },
  {
   "cell_type": "code",
   "execution_count": 11,
   "metadata": {},
   "outputs": [
    {
     "data": {
      "text/plain": [
       "51"
      ]
     },
     "execution_count": 11,
     "metadata": {},
     "output_type": "execute_result"
    }
   ],
   "source": [
    "len(new_tick_list)"
   ]
  },
  {
   "cell_type": "code",
   "execution_count": 12,
   "metadata": {},
   "outputs": [],
   "source": [
    "url = \"https://www.estimize.com/\" + 'AEO' + \"/fq4-2019?metric_name=eps&chart=table\""
   ]
  },
  {
   "cell_type": "code",
   "execution_count": 13,
   "metadata": {},
   "outputs": [
    {
     "data": {
      "text/plain": [
       "'https://www.estimize.com/AEO/fq4-2019?metric_name=eps&chart=table'"
      ]
     },
     "execution_count": 13,
     "metadata": {},
     "output_type": "execute_result"
    }
   ],
   "source": [
    "url"
   ]
  },
  {
   "cell_type": "code",
   "execution_count": 14,
   "metadata": {},
   "outputs": [],
   "source": [
    "browser.get(url)"
   ]
  },
  {
   "cell_type": "code",
   "execution_count": 15,
   "metadata": {},
   "outputs": [],
   "source": [
    "main_content = browser.find_element_by_id(\"releases_show\")"
   ]
  },
  {
   "cell_type": "code",
   "execution_count": 16,
   "metadata": {},
   "outputs": [],
   "source": [
    "comp = main_content.find_element_by_xpath('//div[2]/div[2]/div/div[1]/div/div/div/div[1]/p/a').text"
   ]
  },
  {
   "cell_type": "code",
   "execution_count": 17,
   "metadata": {},
   "outputs": [
    {
     "name": "stdout",
     "output_type": "stream",
     "text": [
      "American Eagle Outfitters, Inc.\n"
     ]
    }
   ],
   "source": [
    "print(comp)"
   ]
  },
  {
   "cell_type": "code",
   "execution_count": 18,
   "metadata": {},
   "outputs": [],
   "source": [
    "sec = main_content.find_element_by_xpath(\"//div[2]/div[2]/div/div[1]/div/div/div/p/span[1]/a/span\").text"
   ]
  },
  {
   "cell_type": "code",
   "execution_count": 19,
   "metadata": {},
   "outputs": [
    {
     "name": "stdout",
     "output_type": "stream",
     "text": [
      "Consumer Discretionary\n"
     ]
    }
   ],
   "source": [
    "print(sec)"
   ]
  },
  {
   "cell_type": "code",
   "execution_count": 20,
   "metadata": {},
   "outputs": [],
   "source": [
    "ind = main_content.find_element_by_xpath(\"//div[2]/div[2]/div/div[1]/div/div/div/p/span[2]/a/span\").text"
   ]
  },
  {
   "cell_type": "code",
   "execution_count": 21,
   "metadata": {},
   "outputs": [
    {
     "name": "stdout",
     "output_type": "stream",
     "text": [
      "Specialty Retail\n"
     ]
    }
   ],
   "source": [
    "print(ind)"
   ]
  },
  {
   "cell_type": "code",
   "execution_count": 23,
   "metadata": {},
   "outputs": [],
   "source": [
    "anal = browser.find_element_by_xpath(\"//*[@id='summary-stats']/div/div/div[2]/a\").text"
   ]
  },
  {
   "cell_type": "code",
   "execution_count": 24,
   "metadata": {},
   "outputs": [
    {
     "data": {
      "text/plain": [
       "'451'"
      ]
     },
     "execution_count": 24,
     "metadata": {},
     "output_type": "execute_result"
    }
   ],
   "source": [
    "anal"
   ]
  },
  {
   "cell_type": "markdown",
   "metadata": {},
   "source": [
    "### Question b Part a"
   ]
  },
  {
   "cell_type": "code",
   "execution_count": 25,
   "metadata": {},
   "outputs": [],
   "source": [
    "ticker = []\n",
    "company = []\n",
    "sector = []\n",
    "industry = []\n",
    "followers = []\n",
    "analysts = []\n",
    "for tic in new_tick_list:\n",
    "    \n",
    "#     print(tic)\n",
    "#     break\n",
    "    \n",
    "    url = \"https://www.estimize.com/\" + tic + \"/fq4-2019?metric_name=eps&chart=table\"\n",
    "    browser.get(url)\n",
    "    time.sleep(1)\n",
    "    ticker.append(tic)\n",
    "    company.append(browser.find_element_by_xpath('//*[@id=\"releases_show\"]/div[2]/div[2]/div/div[1]/div/div/div/div[1]/p/a').text)\n",
    "    sector.append(browser.find_element_by_xpath('//*[@id=\"releases_show\"]/div[2]/div[2]/div/div[1]/div/div/div/p/span[1]/a/span').text)\n",
    "    industry.append(browser.find_element_by_xpath('//*[@id=\"releases_show\"]/div[2]/div[2]/div/div[1]/div/div/div/p/span[2]/a/span').text)\n",
    "    followers.append(browser.find_element_by_xpath('//*[@id=\"summary-stats\"]/div/div/div[1]/div[2]').text)\n",
    "    analysts.append(browser.find_element_by_xpath('//*[@id=\"summary-stats\"]/div/div/div[2]/a').text)\n"
   ]
  },
  {
   "cell_type": "code",
   "execution_count": 26,
   "metadata": {},
   "outputs": [],
   "source": [
    "df_company = pd.DataFrame()\n",
    "df_company[\"Ticker\"] = ticker\n",
    "df_company[\"Name\"] = company\n",
    "df_company[\"Sector\"] = sector\n",
    "df_company[\"Industry\"] = industry\n",
    "df_company[\"Followers\"] = followers\n",
    "df_company[\"Analysts\"] = analysts"
   ]
  },
  {
   "cell_type": "code",
   "execution_count": 27,
   "metadata": {},
   "outputs": [
    {
     "data": {
      "text/html": [
       "<div>\n",
       "<style scoped>\n",
       "    .dataframe tbody tr th:only-of-type {\n",
       "        vertical-align: middle;\n",
       "    }\n",
       "\n",
       "    .dataframe tbody tr th {\n",
       "        vertical-align: top;\n",
       "    }\n",
       "\n",
       "    .dataframe thead th {\n",
       "        text-align: right;\n",
       "    }\n",
       "</style>\n",
       "<table border=\"1\" class=\"dataframe\">\n",
       "  <thead>\n",
       "    <tr style=\"text-align: right;\">\n",
       "      <th></th>\n",
       "      <th>Ticker</th>\n",
       "      <th>Name</th>\n",
       "      <th>Sector</th>\n",
       "      <th>Industry</th>\n",
       "      <th>Followers</th>\n",
       "      <th>Analysts</th>\n",
       "    </tr>\n",
       "  </thead>\n",
       "  <tbody>\n",
       "    <tr>\n",
       "      <th>0</th>\n",
       "      <td>GNC</td>\n",
       "      <td>GNC Holdings Inc.</td>\n",
       "      <td>Consumer Discretionary</td>\n",
       "      <td>Specialty Retail</td>\n",
       "      <td>130</td>\n",
       "      <td>185</td>\n",
       "    </tr>\n",
       "    <tr>\n",
       "      <th>1</th>\n",
       "      <td>PAG</td>\n",
       "      <td>Penske Automotive Group, Inc.</td>\n",
       "      <td>Consumer Discretionary</td>\n",
       "      <td>Specialty Retail</td>\n",
       "      <td>51</td>\n",
       "      <td>84</td>\n",
       "    </tr>\n",
       "    <tr>\n",
       "      <th>2</th>\n",
       "      <td>ABG</td>\n",
       "      <td>Asbury Automotive Group, Inc.</td>\n",
       "      <td>Consumer Discretionary</td>\n",
       "      <td>Specialty Retail</td>\n",
       "      <td>47</td>\n",
       "      <td>84</td>\n",
       "    </tr>\n",
       "    <tr>\n",
       "      <th>3</th>\n",
       "      <td>SYX</td>\n",
       "      <td>Global Industrial Company</td>\n",
       "      <td>Consumer Discretionary</td>\n",
       "      <td>Specialty Retail</td>\n",
       "      <td>15</td>\n",
       "      <td>28</td>\n",
       "    </tr>\n",
       "    <tr>\n",
       "      <th>4</th>\n",
       "      <td>MNRO</td>\n",
       "      <td>Monro, Inc.</td>\n",
       "      <td>Consumer Discretionary</td>\n",
       "      <td>Specialty Retail</td>\n",
       "      <td>58</td>\n",
       "      <td>162</td>\n",
       "    </tr>\n",
       "  </tbody>\n",
       "</table>\n",
       "</div>"
      ],
      "text/plain": [
       "  Ticker                           Name                  Sector  \\\n",
       "0    GNC              GNC Holdings Inc.  Consumer Discretionary   \n",
       "1    PAG  Penske Automotive Group, Inc.  Consumer Discretionary   \n",
       "2    ABG  Asbury Automotive Group, Inc.  Consumer Discretionary   \n",
       "3    SYX      Global Industrial Company  Consumer Discretionary   \n",
       "4   MNRO                    Monro, Inc.  Consumer Discretionary   \n",
       "\n",
       "           Industry Followers Analysts  \n",
       "0  Specialty Retail       130      185  \n",
       "1  Specialty Retail        51       84  \n",
       "2  Specialty Retail        47       84  \n",
       "3  Specialty Retail        15       28  \n",
       "4  Specialty Retail        58      162  "
      ]
     },
     "execution_count": 27,
     "metadata": {},
     "output_type": "execute_result"
    }
   ],
   "source": [
    "df_company.head()"
   ]
  },
  {
   "cell_type": "code",
   "execution_count": 35,
   "metadata": {},
   "outputs": [],
   "source": [
    "df_company.to_csv(\"./Company.csv\")"
   ]
  },
  {
   "cell_type": "markdown",
   "metadata": {},
   "source": [
    "### Question b Part b"
   ]
  },
  {
   "cell_type": "markdown",
   "metadata": {},
   "source": [
    "#### EPS "
   ]
  },
  {
   "cell_type": "code",
   "execution_count": 28,
   "metadata": {},
   "outputs": [],
   "source": [
    "ear = browser.find_element_by_xpath('//*[@id=\"estimates\"]/table/tbody[1]/tr[1]/td[5]').text\n",
    "ec = browser.find_element_by_xpath('//*[@id=\"estimates\"]/table/tbody[1]/tr[2]/td[5]').text\n",
    "em = browser.find_element_by_xpath('//*[@id=\"estimates\"]/table/tbody[1]/tr[2]/td[5]').text\n",
    "wall = browser.find_element_by_xpath('//*[@id=\"estimates\"]/table/tbody[1]/tr[4]/td[5]').text"
   ]
  },
  {
   "cell_type": "code",
   "execution_count": 29,
   "metadata": {},
   "outputs": [
    {
     "name": "stdout",
     "output_type": "stream",
     "text": [
      "0.58 0.41 0.41 0.41\n"
     ]
    }
   ],
   "source": [
    "print(ear,ec,em,wall)"
   ]
  },
  {
   "cell_type": "markdown",
   "metadata": {},
   "source": [
    "Q1-2019"
   ]
  },
  {
   "cell_type": "code",
   "execution_count": 27,
   "metadata": {},
   "outputs": [],
   "source": [
    "rep_ear = []\n",
    "est_cons = []\n",
    "est_mean = []\n",
    "wall_st_cons = []\n",
    "\n",
    "for tic in new_tick_list:\n",
    "    \n",
    "#     print(tic)\n",
    "#     break\n",
    "    \n",
    "    url = \"https://www.estimize.com/\" + tic + \"/fq1-2019?metric_name=eps&chart=table\"\n",
    "    browser.get(url)\n",
    "    time.sleep(1)\n",
    "    if(tic == \"VSI\" or tic==\"MUSA\" or tic==\"CVNA\" or tic == \"FTD\" or tic == \"CATO\"):\n",
    "        rep_ear.append(browser.find_element_by_xpath('//*[@id=\"estimates\"]/table/tbody[1]/tr[1]/td[4]').text)\n",
    "        est_cons.append(' ')\n",
    "        est_mean.append(' ')\n",
    "        wall_st_cons.append(' ')\n",
    "    elif (tic==\"GNC\" or tic == \"L\"  or tic == \"SSI\"):\n",
    "        rep_ear.append(browser.find_element_by_xpath('//*[@id=\"estimates\"]/table/tbody[1]/tr[1]/td[4]').text)\n",
    "        est_cons.append(browser.find_element_by_xpath('//*[@id=\"estimates\"]/table/tbody[1]/tr[2]/td[4]').text)\n",
    "        est_mean.append(browser.find_element_by_xpath('//*[@id=\"estimates\"]/table/tbody[1]/tr[3]/td[4]').text)\n",
    "        wall_st_cons.append(' ')\n",
    "    else:\n",
    "        rep_ear.append(browser.find_element_by_xpath('//*[@id=\"estimates\"]/table/tbody[1]/tr[1]/td[5]').text)\n",
    "        est_cons.append(browser.find_element_by_xpath('//*[@id=\"estimates\"]/table/tbody[1]/tr[2]/td[5]').text)\n",
    "        est_mean.append(browser.find_element_by_xpath('//*[@id=\"estimates\"]/table/tbody[1]/tr[3]/td[5]').text)\n",
    "        wall_st_cons.append(browser.find_element_by_xpath('//*[@id=\"estimates\"]/table/tbody[1]/tr[4]/td[5]').text)"
   ]
  },
  {
   "cell_type": "code",
   "execution_count": 28,
   "metadata": {},
   "outputs": [
    {
     "data": {
      "text/html": [
       "<div>\n",
       "<style scoped>\n",
       "    .dataframe tbody tr th:only-of-type {\n",
       "        vertical-align: middle;\n",
       "    }\n",
       "\n",
       "    .dataframe tbody tr th {\n",
       "        vertical-align: top;\n",
       "    }\n",
       "\n",
       "    .dataframe thead th {\n",
       "        text-align: right;\n",
       "    }\n",
       "</style>\n",
       "<table border=\"1\" class=\"dataframe\">\n",
       "  <thead>\n",
       "    <tr style=\"text-align: right;\">\n",
       "      <th></th>\n",
       "      <th>Ticker</th>\n",
       "      <th>Reported_Earnings</th>\n",
       "      <th>Estimate_Consensus</th>\n",
       "      <th>Estimate_Mean</th>\n",
       "      <th>Wall_Street_Conses</th>\n",
       "    </tr>\n",
       "  </thead>\n",
       "  <tbody>\n",
       "    <tr>\n",
       "      <th>0</th>\n",
       "      <td>GNC</td>\n",
       "      <td>0.15</td>\n",
       "      <td>0.02</td>\n",
       "      <td>0.07</td>\n",
       "      <td></td>\n",
       "    </tr>\n",
       "    <tr>\n",
       "      <th>1</th>\n",
       "      <td>PAG</td>\n",
       "      <td>1.25</td>\n",
       "      <td>1.23</td>\n",
       "      <td>1.23</td>\n",
       "      <td>1.24</td>\n",
       "    </tr>\n",
       "    <tr>\n",
       "      <th>2</th>\n",
       "      <td>ABG</td>\n",
       "      <td>2.20</td>\n",
       "      <td>2.02</td>\n",
       "      <td>1.98</td>\n",
       "      <td>1.92</td>\n",
       "    </tr>\n",
       "    <tr>\n",
       "      <th>3</th>\n",
       "      <td>SYX</td>\n",
       "      <td>0.29</td>\n",
       "      <td>0.24</td>\n",
       "      <td>0.24</td>\n",
       "      <td>0.24</td>\n",
       "    </tr>\n",
       "    <tr>\n",
       "      <th>4</th>\n",
       "      <td>MNRO</td>\n",
       "      <td>0.64</td>\n",
       "      <td>0.67</td>\n",
       "      <td>0.67</td>\n",
       "      <td>0.67</td>\n",
       "    </tr>\n",
       "  </tbody>\n",
       "</table>\n",
       "</div>"
      ],
      "text/plain": [
       "  Ticker Reported_Earnings Estimate_Consensus Estimate_Mean Wall_Street_Conses\n",
       "0    GNC              0.15               0.02          0.07                   \n",
       "1    PAG              1.25               1.23          1.23               1.24\n",
       "2    ABG              2.20               2.02          1.98               1.92\n",
       "3    SYX              0.29               0.24          0.24               0.24\n",
       "4   MNRO              0.64               0.67          0.67               0.67"
      ]
     },
     "execution_count": 28,
     "metadata": {},
     "output_type": "execute_result"
    }
   ],
   "source": [
    "df_eps_q1_2019 = pd.DataFrame()\n",
    "df_eps_q1_2019[\"Ticker\"] = new_tick_list\n",
    "df_eps_q1_2019[\"Reported_Earnings\"] = rep_ear\n",
    "df_eps_q1_2019[\"Estimate_Consensus\"] = est_cons\n",
    "df_eps_q1_2019[\"Estimate_Mean\"] = est_mean\n",
    "df_eps_q1_2019[\"Wall_Street_Conses\"] = wall_st_cons\n",
    "df_eps_q1_2019.head()"
   ]
  },
  {
   "cell_type": "code",
   "execution_count": 29,
   "metadata": {},
   "outputs": [],
   "source": [
    "df_eps_q1_2019.to_csv(\"./EPS_Q1_2019_updated.csv\")"
   ]
  },
  {
   "cell_type": "markdown",
   "metadata": {},
   "source": [
    "Q2-2019"
   ]
  },
  {
   "cell_type": "code",
   "execution_count": 30,
   "metadata": {},
   "outputs": [],
   "source": [
    "rep_ear = []\n",
    "est_cons = []\n",
    "est_mean = []\n",
    "wall_st_cons = []\n",
    "\n",
    "for tic in new_tick_list:\n",
    "    \n",
    "#     print(tic)\n",
    "#     break\n",
    "    \n",
    "    url = \"https://www.estimize.com/\" + tic + \"/fq2-2019?metric_name=eps&chart=table\"\n",
    "    browser.get(url)\n",
    "    time.sleep(1)\n",
    "    if(tic==\"MUSA\" or tic==\"CVNA\" or tic == \"FTD\" or tic == \"CATO\"):\n",
    "        rep_ear.append(browser.find_element_by_xpath('//*[@id=\"estimates\"]/table/tbody[1]/tr[1]/td[4]').text)\n",
    "        est_cons.append(' ')\n",
    "        est_mean.append(' ')\n",
    "        wall_st_cons.append(' ')\n",
    "    elif (tic == \"L\" or tic == \"SSI\"):\n",
    "        rep_ear.append(browser.find_element_by_xpath('//*[@id=\"estimates\"]/table/tbody[1]/tr[1]/td[4]').text)\n",
    "        est_cons.append(browser.find_element_by_xpath('//*[@id=\"estimates\"]/table/tbody[1]/tr[2]/td[4]').text)\n",
    "        est_mean.append(browser.find_element_by_xpath('//*[@id=\"estimates\"]/table/tbody[1]/tr[3]/td[4]').text)\n",
    "        wall_st_cons.append(' ')\n",
    "    else:\n",
    "        rep_ear.append(browser.find_element_by_xpath('//*[@id=\"estimates\"]/table/tbody[1]/tr[1]/td[5]').text)\n",
    "        est_cons.append(browser.find_element_by_xpath('//*[@id=\"estimates\"]/table/tbody[1]/tr[2]/td[5]').text)\n",
    "        est_mean.append(browser.find_element_by_xpath('//*[@id=\"estimates\"]/table/tbody[1]/tr[3]/td[5]').text)\n",
    "        wall_st_cons.append(browser.find_element_by_xpath('//*[@id=\"estimates\"]/table/tbody[1]/tr[4]/td[5]').text)"
   ]
  },
  {
   "cell_type": "code",
   "execution_count": 31,
   "metadata": {},
   "outputs": [],
   "source": [
    "df_eps_q2_2019 = pd.DataFrame()\n",
    "df_eps_q2_2019[\"Ticker\"] = new_tick_list\n",
    "df_eps_q2_2019[\"Reported_Earnings\"] = rep_ear\n",
    "df_eps_q2_2019[\"Estimate_Consensus\"] = est_cons\n",
    "df_eps_q2_2019[\"Estimate_Mean\"] = est_mean\n",
    "df_eps_q2_2019[\"Wall_Street_Conses\"] = wall_st_cons"
   ]
  },
  {
   "cell_type": "code",
   "execution_count": 32,
   "metadata": {},
   "outputs": [
    {
     "data": {
      "text/html": [
       "<div>\n",
       "<style scoped>\n",
       "    .dataframe tbody tr th:only-of-type {\n",
       "        vertical-align: middle;\n",
       "    }\n",
       "\n",
       "    .dataframe tbody tr th {\n",
       "        vertical-align: top;\n",
       "    }\n",
       "\n",
       "    .dataframe thead th {\n",
       "        text-align: right;\n",
       "    }\n",
       "</style>\n",
       "<table border=\"1\" class=\"dataframe\">\n",
       "  <thead>\n",
       "    <tr style=\"text-align: right;\">\n",
       "      <th></th>\n",
       "      <th>Ticker</th>\n",
       "      <th>Reported_Earnings</th>\n",
       "      <th>Estimate_Consensus</th>\n",
       "      <th>Estimate_Mean</th>\n",
       "      <th>Wall_Street_Conses</th>\n",
       "    </tr>\n",
       "  </thead>\n",
       "  <tbody>\n",
       "    <tr>\n",
       "      <th>0</th>\n",
       "      <td>GNC</td>\n",
       "      <td>0.13</td>\n",
       "      <td>0.07</td>\n",
       "      <td>0.09</td>\n",
       "      <td>0.07</td>\n",
       "    </tr>\n",
       "    <tr>\n",
       "      <th>1</th>\n",
       "      <td>PAG</td>\n",
       "      <td>1.42</td>\n",
       "      <td>1.60</td>\n",
       "      <td>1.59</td>\n",
       "      <td>1.59</td>\n",
       "    </tr>\n",
       "    <tr>\n",
       "      <th>2</th>\n",
       "      <td>ABG</td>\n",
       "      <td>2.38</td>\n",
       "      <td>2.33</td>\n",
       "      <td>2.25</td>\n",
       "      <td>2.27</td>\n",
       "    </tr>\n",
       "    <tr>\n",
       "      <th>3</th>\n",
       "      <td>SYX</td>\n",
       "      <td>0.43</td>\n",
       "      <td>0.38</td>\n",
       "      <td>0.39</td>\n",
       "      <td>0.41</td>\n",
       "    </tr>\n",
       "    <tr>\n",
       "      <th>4</th>\n",
       "      <td>MNRO</td>\n",
       "      <td>0.68</td>\n",
       "      <td>0.64</td>\n",
       "      <td>0.64</td>\n",
       "      <td>0.64</td>\n",
       "    </tr>\n",
       "  </tbody>\n",
       "</table>\n",
       "</div>"
      ],
      "text/plain": [
       "  Ticker Reported_Earnings Estimate_Consensus Estimate_Mean Wall_Street_Conses\n",
       "0    GNC              0.13               0.07          0.09               0.07\n",
       "1    PAG              1.42               1.60          1.59               1.59\n",
       "2    ABG              2.38               2.33          2.25               2.27\n",
       "3    SYX              0.43               0.38          0.39               0.41\n",
       "4   MNRO              0.68               0.64          0.64               0.64"
      ]
     },
     "execution_count": 32,
     "metadata": {},
     "output_type": "execute_result"
    }
   ],
   "source": [
    "df_eps_q2_2019.head()"
   ]
  },
  {
   "cell_type": "code",
   "execution_count": 33,
   "metadata": {},
   "outputs": [],
   "source": [
    "df_eps_q2_2019.to_csv(\"./EPS_Q2_2019_updated.csv\")"
   ]
  },
  {
   "cell_type": "markdown",
   "metadata": {},
   "source": [
    "Q3-2019"
   ]
  },
  {
   "cell_type": "code",
   "execution_count": 34,
   "metadata": {},
   "outputs": [],
   "source": [
    "rep_ear = []\n",
    "est_cons = []\n",
    "est_mean = []\n",
    "wall_st_cons = []\n",
    "\n",
    "for tic in new_tick_list:\n",
    "    \n",
    "#     print(tic)\n",
    "#     break\n",
    "    \n",
    "    url = \"https://www.estimize.com/\" + tic + \"/fq3-2019?metric_name=eps&chart=table\"\n",
    "    browser.get(url)\n",
    "    time.sleep(1)\n",
    "    if(tic==\"MUSA\" or tic==\"CVNA\" or tic == \"FTD\" or tic == \"CATO\"):\n",
    "        rep_ear.append(browser.find_element_by_xpath('//*[@id=\"estimates\"]/table/tbody[1]/tr[1]/td[4]').text)\n",
    "        est_cons.append(' ')\n",
    "        est_mean.append(' ')\n",
    "        wall_st_cons.append(' ')\n",
    "    elif (tic == \"L\" or tic == \"SSI\"):\n",
    "        rep_ear.append(browser.find_element_by_xpath('//*[@id=\"estimates\"]/table/tbody[1]/tr[1]/td[4]').text)\n",
    "        est_cons.append(browser.find_element_by_xpath('//*[@id=\"estimates\"]/table/tbody[1]/tr[2]/td[4]').text)\n",
    "        est_mean.append(browser.find_element_by_xpath('//*[@id=\"estimates\"]/table/tbody[1]/tr[3]/td[4]').text)\n",
    "        wall_st_cons.append(' ')\n",
    "    else:\n",
    "        rep_ear.append(browser.find_element_by_xpath('//*[@id=\"estimates\"]/table/tbody[1]/tr[1]/td[5]').text)\n",
    "        est_cons.append(browser.find_element_by_xpath('//*[@id=\"estimates\"]/table/tbody[1]/tr[2]/td[5]').text)\n",
    "        est_mean.append(browser.find_element_by_xpath('//*[@id=\"estimates\"]/table/tbody[1]/tr[3]/td[5]').text)\n",
    "        wall_st_cons.append(browser.find_element_by_xpath('//*[@id=\"estimates\"]/table/tbody[1]/tr[4]/td[5]').text)"
   ]
  },
  {
   "cell_type": "code",
   "execution_count": 35,
   "metadata": {},
   "outputs": [],
   "source": [
    "df_eps_q3_2019 = pd.DataFrame()\n",
    "df_eps_q3_2019[\"Ticker\"] = new_tick_list\n",
    "df_eps_q3_2019[\"Reported_Earnings\"] = rep_ear\n",
    "df_eps_q3_2019[\"Estimate_Consensus\"] = est_cons\n",
    "df_eps_q3_2019[\"Estimate_Mean\"] = est_mean\n",
    "df_eps_q3_2019[\"Wall_Street_Conses\"] = wall_st_cons"
   ]
  },
  {
   "cell_type": "code",
   "execution_count": 36,
   "metadata": {},
   "outputs": [
    {
     "data": {
      "text/html": [
       "<div>\n",
       "<style scoped>\n",
       "    .dataframe tbody tr th:only-of-type {\n",
       "        vertical-align: middle;\n",
       "    }\n",
       "\n",
       "    .dataframe tbody tr th {\n",
       "        vertical-align: top;\n",
       "    }\n",
       "\n",
       "    .dataframe thead th {\n",
       "        text-align: right;\n",
       "    }\n",
       "</style>\n",
       "<table border=\"1\" class=\"dataframe\">\n",
       "  <thead>\n",
       "    <tr style=\"text-align: right;\">\n",
       "      <th></th>\n",
       "      <th>Ticker</th>\n",
       "      <th>Reported_Earnings</th>\n",
       "      <th>Estimate_Consensus</th>\n",
       "      <th>Estimate_Mean</th>\n",
       "      <th>Wall_Street_Conses</th>\n",
       "    </tr>\n",
       "  </thead>\n",
       "  <tbody>\n",
       "    <tr>\n",
       "      <th>0</th>\n",
       "      <td>GNC</td>\n",
       "      <td>-0.02</td>\n",
       "      <td>-0.04</td>\n",
       "      <td>-0.01</td>\n",
       "      <td>-0.02</td>\n",
       "    </tr>\n",
       "    <tr>\n",
       "      <th>1</th>\n",
       "      <td>PAG</td>\n",
       "      <td>1.42</td>\n",
       "      <td>1.37</td>\n",
       "      <td>1.42</td>\n",
       "      <td>1.41</td>\n",
       "    </tr>\n",
       "    <tr>\n",
       "      <th>2</th>\n",
       "      <td>ABG</td>\n",
       "      <td>2.33</td>\n",
       "      <td>2.43</td>\n",
       "      <td>2.35</td>\n",
       "      <td>2.35</td>\n",
       "    </tr>\n",
       "    <tr>\n",
       "      <th>3</th>\n",
       "      <td>SYX</td>\n",
       "      <td>0.36</td>\n",
       "      <td>0.40</td>\n",
       "      <td>0.41</td>\n",
       "      <td>0.40</td>\n",
       "    </tr>\n",
       "    <tr>\n",
       "      <th>4</th>\n",
       "      <td>MNRO</td>\n",
       "      <td>0.61</td>\n",
       "      <td>0.59</td>\n",
       "      <td>0.59</td>\n",
       "      <td>0.58</td>\n",
       "    </tr>\n",
       "  </tbody>\n",
       "</table>\n",
       "</div>"
      ],
      "text/plain": [
       "  Ticker Reported_Earnings Estimate_Consensus Estimate_Mean Wall_Street_Conses\n",
       "0    GNC             -0.02              -0.04         -0.01              -0.02\n",
       "1    PAG              1.42               1.37          1.42               1.41\n",
       "2    ABG              2.33               2.43          2.35               2.35\n",
       "3    SYX              0.36               0.40          0.41               0.40\n",
       "4   MNRO              0.61               0.59          0.59               0.58"
      ]
     },
     "execution_count": 36,
     "metadata": {},
     "output_type": "execute_result"
    }
   ],
   "source": [
    "df_eps_q3_2019.head()"
   ]
  },
  {
   "cell_type": "code",
   "execution_count": 37,
   "metadata": {},
   "outputs": [],
   "source": [
    "df_eps_q3_2019.to_csv(\"./EPS_Q3_2019_updated.csv\")"
   ]
  },
  {
   "cell_type": "markdown",
   "metadata": {},
   "source": [
    "Q4-2019"
   ]
  },
  {
   "cell_type": "code",
   "execution_count": 38,
   "metadata": {},
   "outputs": [],
   "source": [
    "rep_ear = []\n",
    "est_cons = []\n",
    "est_mean = []\n",
    "wall_st_cons = []\n",
    "\n",
    "for tic in new_tick_list:\n",
    "    \n",
    "#     print(tic)\n",
    "#     break\n",
    "    \n",
    "    url = \"https://www.estimize.com/\" + tic + \"/fq4-2019?metric_name=eps&chart=table\"\n",
    "    browser.get(url)\n",
    "    time.sleep(1)\n",
    "    if(tic==\"MUSA\" or tic==\"CVNA\" or tic == \"L\" or tic == \"FTD\" or tic == \"SSI\" or tic == \"CATO\"):\n",
    "        rep_ear.append(browser.find_element_by_xpath('//*[@id=\"estimates\"]/table/tbody[1]/tr[1]/td[4]').text)\n",
    "        est_cons.append(' ')\n",
    "        est_mean.append(' ')\n",
    "        wall_st_cons.append(' ')\n",
    "    else:\n",
    "        rep_ear.append(browser.find_element_by_xpath('//*[@id=\"estimates\"]/table/tbody[1]/tr[1]/td[5]').text)\n",
    "        est_cons.append(browser.find_element_by_xpath('//*[@id=\"estimates\"]/table/tbody[1]/tr[2]/td[5]').text)\n",
    "        est_mean.append(browser.find_element_by_xpath('//*[@id=\"estimates\"]/table/tbody[1]/tr[3]/td[5]').text)\n",
    "        wall_st_cons.append(browser.find_element_by_xpath('//*[@id=\"estimates\"]/table/tbody[1]/tr[4]/td[5]').text)"
   ]
  },
  {
   "cell_type": "code",
   "execution_count": null,
   "metadata": {},
   "outputs": [],
   "source": []
  },
  {
   "cell_type": "code",
   "execution_count": 39,
   "metadata": {},
   "outputs": [
    {
     "data": {
      "text/html": [
       "<div>\n",
       "<style scoped>\n",
       "    .dataframe tbody tr th:only-of-type {\n",
       "        vertical-align: middle;\n",
       "    }\n",
       "\n",
       "    .dataframe tbody tr th {\n",
       "        vertical-align: top;\n",
       "    }\n",
       "\n",
       "    .dataframe thead th {\n",
       "        text-align: right;\n",
       "    }\n",
       "</style>\n",
       "<table border=\"1\" class=\"dataframe\">\n",
       "  <thead>\n",
       "    <tr style=\"text-align: right;\">\n",
       "      <th></th>\n",
       "      <th>Ticker</th>\n",
       "      <th>Reported_Earnings</th>\n",
       "      <th>Estimate_Consensus</th>\n",
       "      <th>Estimate_Mean</th>\n",
       "      <th>Wall_Street_Conses</th>\n",
       "    </tr>\n",
       "  </thead>\n",
       "  <tbody>\n",
       "    <tr>\n",
       "      <th>0</th>\n",
       "      <td>GNC</td>\n",
       "      <td>-0.07</td>\n",
       "      <td>0</td>\n",
       "      <td>0.01</td>\n",
       "      <td>-0.52</td>\n",
       "    </tr>\n",
       "    <tr>\n",
       "      <th>1</th>\n",
       "      <td>PAG</td>\n",
       "      <td>1.25</td>\n",
       "      <td>1.21</td>\n",
       "      <td>1.23</td>\n",
       "      <td>1.20</td>\n",
       "    </tr>\n",
       "    <tr>\n",
       "      <th>2</th>\n",
       "      <td>ABG</td>\n",
       "      <td>2.53</td>\n",
       "      <td>2.39</td>\n",
       "      <td>2.35</td>\n",
       "      <td>2.35</td>\n",
       "    </tr>\n",
       "    <tr>\n",
       "      <th>3</th>\n",
       "      <td>SYX</td>\n",
       "      <td>0.30</td>\n",
       "      <td>0.26</td>\n",
       "      <td>0.25</td>\n",
       "      <td>0.25</td>\n",
       "    </tr>\n",
       "    <tr>\n",
       "      <th>4</th>\n",
       "      <td>MNRO</td>\n",
       "      <td>0.51</td>\n",
       "      <td>0.53</td>\n",
       "      <td>0.52</td>\n",
       "      <td>0.51</td>\n",
       "    </tr>\n",
       "  </tbody>\n",
       "</table>\n",
       "</div>"
      ],
      "text/plain": [
       "  Ticker Reported_Earnings Estimate_Consensus Estimate_Mean Wall_Street_Conses\n",
       "0    GNC             -0.07                  0          0.01              -0.52\n",
       "1    PAG              1.25               1.21          1.23               1.20\n",
       "2    ABG              2.53               2.39          2.35               2.35\n",
       "3    SYX              0.30               0.26          0.25               0.25\n",
       "4   MNRO              0.51               0.53          0.52               0.51"
      ]
     },
     "execution_count": 39,
     "metadata": {},
     "output_type": "execute_result"
    }
   ],
   "source": [
    "df_eps_q4_2019 = pd.DataFrame()\n",
    "df_eps_q4_2019[\"Ticker\"] = new_tick_list\n",
    "df_eps_q4_2019[\"Reported_Earnings\"] = rep_ear\n",
    "df_eps_q4_2019[\"Estimate_Consensus\"] = est_cons\n",
    "df_eps_q4_2019[\"Estimate_Mean\"] = est_mean\n",
    "df_eps_q4_2019[\"Wall_Street_Conses\"] = wall_st_cons\n",
    "df_eps_q4_2019.head()"
   ]
  },
  {
   "cell_type": "code",
   "execution_count": 40,
   "metadata": {},
   "outputs": [],
   "source": [
    "df_eps_q4_2019.to_csv(\"./EPS_Q4_2019_updated.csv\")"
   ]
  },
  {
   "cell_type": "markdown",
   "metadata": {},
   "source": [
    "### EPS Analysts"
   ]
  },
  {
   "cell_type": "code",
   "execution_count": 92,
   "metadata": {},
   "outputs": [
    {
     "name": "stdout",
     "output_type": "stream",
     "text": [
      "Analyst_1844295\n",
      "Bill\n",
      "0.50\n",
      "0.43\n"
     ]
    }
   ],
   "source": [
    "strl = (browser.find_element_by_xpath('//*[@id=\"estimates\"]/p[1]/strong').text).split(\" \")[1].split(\"/\")[1]\n",
    "strl\n",
    "\n",
    "print(browser.find_element_by_xpath('//*[@id=\"estimates\"]/table/tbody[2]/tr[1]/td[3]/a[2]/strong').text)\n",
    "\n",
    "print(browser.find_element_by_xpath('//*[@id=\"estimates\"]/table/tbody[2]/tr[2]/td[3]/a[2]/strong').text)\n",
    "\n",
    "print(browser.find_element_by_xpath('//*[@id=\"estimates\"]/table/tbody[2]/tr[1]/td[6]').text)\n",
    "\n",
    "print(browser.find_element_by_xpath('//*[@id=\"estimates\"]/table/tbody[2]/tr[2]/td[6]').text)"
   ]
  },
  {
   "cell_type": "code",
   "execution_count": 99,
   "metadata": {},
   "outputs": [
    {
     "name": "stdout",
     "output_type": "stream",
     "text": [
      "Bill Dreher\n",
      "1.80\n",
      "Dana Telsey\n",
      "1.80\n",
      "Analyst_589004\n",
      "1.82\n",
      "omni\n",
      "1.77\n",
      "Sentinel\n",
      "1.75\n",
      "WonterC\n",
      "1.75\n",
      "Analyst_6356544\n",
      "1.74\n",
      "Bill\n",
      "1.72\n",
      "Frederick Tremblay\n",
      "1.71\n",
      "Rick Patel\n",
      "1.67\n",
      "eaojnr\n",
      "2.00\n",
      "Randal Konik\n",
      "1.57\n",
      "Brian Nagel, CFA\n",
      "1.16\n"
     ]
    }
   ],
   "source": [
    "browser.get('https://www.estimize.com/tif/fq4-2019?metric_name=eps&chart=table')\n",
    "\n",
    "strl = (browser.find_element_by_xpath('//*[@id=\"estimates\"]/p[1]/strong').text).split(\" \")[1].split(\"/\")[1]\n",
    "strl = int(strl)\n",
    "for i in range(1,strl+1):\n",
    "    print(browser.find_element_by_xpath('//*[@id=\"estimates\"]/table/tbody[2]/tr['+str(i)+']/td[3]/a[2]/strong').text)\n",
    "    print(browser.find_element_by_xpath('//*[@id=\"estimates\"]/table/tbody[2]/tr['+str(i)+']/td[6]').text)"
   ]
  },
  {
   "cell_type": "code",
   "execution_count": 105,
   "metadata": {},
   "outputs": [
    {
     "name": "stdout",
     "output_type": "stream",
     "text": [
      "GNC 6\n",
      "PAG 10\n",
      "ABG 10\n",
      "SYX 3\n",
      "MNRO 38\n",
      "HZO 27\n",
      "ORLY 22\n",
      "RCII 9\n",
      "HVT 5\n",
      "MUSA 0\n"
     ]
    }
   ],
   "source": [
    "for i in range(10):\n",
    "    print(new_tick_list[i], ll[])"
   ]
  },
  {
   "cell_type": "markdown",
   "metadata": {},
   "source": [
    "#### EPS ANALYST Q1 "
   ]
  },
  {
   "cell_type": "code",
   "execution_count": 141,
   "metadata": {},
   "outputs": [],
   "source": [
    "tick_temp = []\n",
    "noanal_tick = []\n",
    "anal_name = []\n",
    "val = []\n",
    "for tic in new_tick_list:\n",
    "    url = \"https://www.estimize.com/\" + tic + \"/fq1-2019?metric_name=eps&chart=table\"\n",
    "    browser.get(url)\n",
    "    time.sleep(2)\n",
    "    strl = (browser.find_element_by_xpath('//*[@id=\"estimates\"]/p[1]').text).split(\" \")[1].split(\"/\")[1]\n",
    "    strl = int(strl)\n",
    "    flag = 1\n",
    "    if(strl==0):\n",
    "        flag=0\n",
    "        noanal_tick.append(tic)\n",
    "        continue\n",
    "    elif(strl>30):\n",
    "        more_est = browser.find_element_by_xpath('//*[@id=\"estimates\"]/div/a')\n",
    "        more_est.click()\n",
    "    elif (tic==\"GNC\" or tic==\"VSI\" or tic == \"L\"or tic==\"SSI\" or tic == \"CATO\"):\n",
    "        for i in range(1,strl+1):\n",
    "            anal_name.append(browser.find_element_by_xpath('//*[@id=\"estimates\"]/table/tbody[2]/tr['+str(i)+']/td[3]/a[2]').text)\n",
    "            val.append(browser.find_element_by_xpath('//*[@id=\"estimates\"]/table/tbody[2]/tr['+str(i)+']/td[4]').text)\n",
    "        \n",
    "        if(flag): \n",
    "            for i in range(strl): tick_temp.append(tic)\n",
    "        continue\n",
    "    for i in range(1,strl+1):\n",
    "        anal_name.append(browser.find_element_by_xpath('//*[@id=\"estimates\"]/table/tbody[2]/tr['+str(i)+']/td[3]/a[2]').text)\n",
    "        val.append(browser.find_element_by_xpath('//*[@id=\"estimates\"]/table/tbody[2]/tr['+str(i)+']/td[6]').text)\n",
    "    if(flag): \n",
    "        for i in range(strl): tick_temp.append(tic)"
   ]
  },
  {
   "cell_type": "code",
   "execution_count": 142,
   "metadata": {},
   "outputs": [
    {
     "name": "stdout",
     "output_type": "stream",
     "text": [
      "905\n",
      "905\n",
      "905\n"
     ]
    }
   ],
   "source": [
    "print(len(tick_temp))\n",
    "print(len(anal_name))\n",
    "print(len(val))"
   ]
  },
  {
   "cell_type": "code",
   "execution_count": 143,
   "metadata": {},
   "outputs": [],
   "source": [
    "eps_anal_q1 = pd.DataFrame()\n",
    "eps_anal_q1[\"Ticker\"] = tick_temp\n",
    "eps_anal_q1[\"Analyst\"] = anal_name\n",
    "eps_anal_q1[\"Value\"] = val"
   ]
  },
  {
   "cell_type": "code",
   "execution_count": 144,
   "metadata": {},
   "outputs": [
    {
     "data": {
      "text/html": [
       "<div>\n",
       "<style scoped>\n",
       "    .dataframe tbody tr th:only-of-type {\n",
       "        vertical-align: middle;\n",
       "    }\n",
       "\n",
       "    .dataframe tbody tr th {\n",
       "        vertical-align: top;\n",
       "    }\n",
       "\n",
       "    .dataframe thead th {\n",
       "        text-align: right;\n",
       "    }\n",
       "</style>\n",
       "<table border=\"1\" class=\"dataframe\">\n",
       "  <thead>\n",
       "    <tr style=\"text-align: right;\">\n",
       "      <th></th>\n",
       "      <th>Ticker</th>\n",
       "      <th>Analyst</th>\n",
       "      <th>Value</th>\n",
       "    </tr>\n",
       "  </thead>\n",
       "  <tbody>\n",
       "    <tr>\n",
       "      <th>0</th>\n",
       "      <td>GNC</td>\n",
       "      <td>Bill</td>\n",
       "      <td>-0.11</td>\n",
       "    </tr>\n",
       "    <tr>\n",
       "      <th>1</th>\n",
       "      <td>GNC</td>\n",
       "      <td>Analyst_8749611</td>\n",
       "      <td>0.02</td>\n",
       "    </tr>\n",
       "    <tr>\n",
       "      <th>2</th>\n",
       "      <td>GNC</td>\n",
       "      <td>AetCap</td>\n",
       "      <td>0.04</td>\n",
       "    </tr>\n",
       "    <tr>\n",
       "      <th>3</th>\n",
       "      <td>GNC</td>\n",
       "      <td>Frederick Tremblay</td>\n",
       "      <td>0.12</td>\n",
       "    </tr>\n",
       "    <tr>\n",
       "      <th>4</th>\n",
       "      <td>GNC</td>\n",
       "      <td>Analyst_5991158</td>\n",
       "      <td>0.15</td>\n",
       "    </tr>\n",
       "  </tbody>\n",
       "</table>\n",
       "</div>"
      ],
      "text/plain": [
       "  Ticker             Analyst  Value\n",
       "0    GNC                Bill  -0.11\n",
       "1    GNC     Analyst_8749611   0.02\n",
       "2    GNC              AetCap   0.04\n",
       "3    GNC  Frederick Tremblay   0.12\n",
       "4    GNC     Analyst_5991158   0.15"
      ]
     },
     "execution_count": 144,
     "metadata": {},
     "output_type": "execute_result"
    }
   ],
   "source": [
    "eps_anal_q1.head()"
   ]
  },
  {
   "cell_type": "code",
   "execution_count": 145,
   "metadata": {},
   "outputs": [],
   "source": [
    "eps_anal_q1.to_csv(\"EPS_ANAL_Q1.csv\")"
   ]
  },
  {
   "cell_type": "markdown",
   "metadata": {},
   "source": [
    "#### EPS ANALYST Q2"
   ]
  },
  {
   "cell_type": "code",
   "execution_count": 152,
   "metadata": {},
   "outputs": [],
   "source": [
    "tick_temp = []\n",
    "noanal_tick = []\n",
    "anal_name = []\n",
    "val = []\n",
    "for tic in new_tick_list:\n",
    "    url = \"https://www.estimize.com/\" + tic + \"/fq2-2019?metric_name=eps&chart=table\"\n",
    "    browser.get(url)\n",
    "    time.sleep(2)\n",
    "    strl = (browser.find_element_by_xpath('//*[@id=\"estimates\"]/p[1]').text).split(\" \")[1].split(\"/\")[1]\n",
    "    strl = int(strl)\n",
    "    flag = 1\n",
    "    if(strl==0):\n",
    "        flag=0\n",
    "        noanal_tick.append(tic)\n",
    "        continue\n",
    "    elif(strl>30):\n",
    "        more_est = browser.find_element_by_xpath('//*[@id=\"estimates\"]/div/a')\n",
    "        more_est.click()\n",
    "    elif (tic==\"VSI\" or tic == \"L\"or tic==\"SSI\" or tic == \"CATO\"):\n",
    "        for i in range(1,strl+1):\n",
    "            anal_name.append(browser.find_element_by_xpath('//*[@id=\"estimates\"]/table/tbody[2]/tr['+str(i)+']/td[3]/a[2]').text)\n",
    "            val.append(browser.find_element_by_xpath('//*[@id=\"estimates\"]/table/tbody[2]/tr['+str(i)+']/td[4]').text)\n",
    "        \n",
    "        if(flag): \n",
    "            for i in range(strl): tick_temp.append(tic)\n",
    "        continue\n",
    "    for i in range(1,strl+1):\n",
    "        anal_name.append(browser.find_element_by_xpath('//*[@id=\"estimates\"]/table/tbody[2]/tr['+str(i)+']/td[3]/a[2]').text)\n",
    "        val.append(browser.find_element_by_xpath('//*[@id=\"estimates\"]/table/tbody[2]/tr['+str(i)+']/td[6]').text)\n",
    "    if(flag): \n",
    "        for i in range(strl): tick_temp.append(tic)"
   ]
  },
  {
   "cell_type": "code",
   "execution_count": 153,
   "metadata": {},
   "outputs": [
    {
     "name": "stdout",
     "output_type": "stream",
     "text": [
      "895\n",
      "895\n",
      "895\n"
     ]
    }
   ],
   "source": [
    "print(len(tick_temp))\n",
    "print(len(anal_name))\n",
    "print(len(val))"
   ]
  },
  {
   "cell_type": "code",
   "execution_count": 154,
   "metadata": {},
   "outputs": [],
   "source": [
    "eps_anal_q2 = pd.DataFrame()\n",
    "eps_anal_q2[\"Ticker\"] = tick_temp\n",
    "eps_anal_q2[\"Analyst\"] = anal_name\n",
    "eps_anal_q2[\"Value\"] = val"
   ]
  },
  {
   "cell_type": "code",
   "execution_count": 155,
   "metadata": {},
   "outputs": [
    {
     "data": {
      "text/html": [
       "<div>\n",
       "<style scoped>\n",
       "    .dataframe tbody tr th:only-of-type {\n",
       "        vertical-align: middle;\n",
       "    }\n",
       "\n",
       "    .dataframe tbody tr th {\n",
       "        vertical-align: top;\n",
       "    }\n",
       "\n",
       "    .dataframe thead th {\n",
       "        text-align: right;\n",
       "    }\n",
       "</style>\n",
       "<table border=\"1\" class=\"dataframe\">\n",
       "  <thead>\n",
       "    <tr style=\"text-align: right;\">\n",
       "      <th></th>\n",
       "      <th>Ticker</th>\n",
       "      <th>Analyst</th>\n",
       "      <th>Value</th>\n",
       "    </tr>\n",
       "  </thead>\n",
       "  <tbody>\n",
       "    <tr>\n",
       "      <th>0</th>\n",
       "      <td>GNC</td>\n",
       "      <td>Frederick Tremblay</td>\n",
       "      <td>0.12</td>\n",
       "    </tr>\n",
       "    <tr>\n",
       "      <th>1</th>\n",
       "      <td>GNC</td>\n",
       "      <td>Analyst_2229618</td>\n",
       "      <td>0.10</td>\n",
       "    </tr>\n",
       "    <tr>\n",
       "      <th>2</th>\n",
       "      <td>GNC</td>\n",
       "      <td>Buck_446488</td>\n",
       "      <td>0.17</td>\n",
       "    </tr>\n",
       "    <tr>\n",
       "      <th>3</th>\n",
       "      <td>GNC</td>\n",
       "      <td>Bill</td>\n",
       "      <td>0.09</td>\n",
       "    </tr>\n",
       "    <tr>\n",
       "      <th>4</th>\n",
       "      <td>GNC</td>\n",
       "      <td>Sentinel</td>\n",
       "      <td>0.08</td>\n",
       "    </tr>\n",
       "  </tbody>\n",
       "</table>\n",
       "</div>"
      ],
      "text/plain": [
       "  Ticker             Analyst Value\n",
       "0    GNC  Frederick Tremblay  0.12\n",
       "1    GNC     Analyst_2229618  0.10\n",
       "2    GNC         Buck_446488  0.17\n",
       "3    GNC                Bill  0.09\n",
       "4    GNC            Sentinel  0.08"
      ]
     },
     "execution_count": 155,
     "metadata": {},
     "output_type": "execute_result"
    }
   ],
   "source": [
    "eps_anal_q2.head()"
   ]
  },
  {
   "cell_type": "code",
   "execution_count": 156,
   "metadata": {},
   "outputs": [],
   "source": [
    "eps_anal_q2.to_csv(\"EPS_ANAL_Q2.csv\")"
   ]
  },
  {
   "cell_type": "code",
   "execution_count": 163,
   "metadata": {},
   "outputs": [],
   "source": [
    "browser.close()"
   ]
  },
  {
   "cell_type": "markdown",
   "metadata": {},
   "source": [
    "#### EPS ANALYST Q3"
   ]
  },
  {
   "cell_type": "code",
   "execution_count": 165,
   "metadata": {},
   "outputs": [],
   "source": [
    "chrome_options = webdriver.ChromeOptions()\n",
    "chrome_options.headless = False\n",
    "browser = webdriver.Chrome(executable_path = './chromedriver.exe',\n",
    "                          options = chrome_options)"
   ]
  },
  {
   "cell_type": "code",
   "execution_count": 172,
   "metadata": {},
   "outputs": [],
   "source": [
    "tick_temp = []\n",
    "noanal_tick = []\n",
    "anal_name = []\n",
    "val = []\n",
    "for tic in new_tick_list:\n",
    "    url = \"https://www.estimize.com/\" + tic + \"/fq3-2019?metric_name=eps&chart=table\"\n",
    "    browser.get(url)\n",
    "    time.sleep(5)\n",
    "    strl = (browser.find_element_by_xpath('//*[@id=\"estimates\"]/p[1]').text).split(\" \")[1].split(\"/\")[1]\n",
    "    strl = int(strl)\n",
    "    flag = 1\n",
    "    if(strl==0):\n",
    "        flag=0\n",
    "        noanal_tick.append(tic)\n",
    "        continue\n",
    "    elif(strl>30):\n",
    "        more_est = browser.find_element_by_xpath('//*[@id=\"estimates\"]/div/a')\n",
    "        more_est.click()\n",
    "    elif (tic==\"VSI\" or tic == \"L\"or tic==\"SSI\" or tic == \"CATO\"):\n",
    "        for i in range(1,strl+1):\n",
    "            anal_name.append(browser.find_element_by_xpath('//*[@id=\"estimates\"]/table/tbody[2]/tr['+str(i)+']/td[3]/a[2]').text)\n",
    "            val.append(browser.find_element_by_xpath('//*[@id=\"estimates\"]/table/tbody[2]/tr['+str(i)+']/td[4]').text)\n",
    "        \n",
    "        \n",
    "        if(flag): \n",
    "            for i in range(strl): tick_temp.append(tic)\n",
    "        continue\n",
    "    for i in range(1,strl+1):\n",
    "        anal_name.append(browser.find_element_by_xpath('//*[@id=\"estimates\"]/table/tbody[2]/tr['+str(i)+']/td[3]/a[2]').text)\n",
    "        val.append(browser.find_element_by_xpath('//*[@id=\"estimates\"]/table/tbody[2]/tr['+str(i)+']/td[6]').text)\n",
    "        \n",
    "    if(flag): \n",
    "        for i in range(strl): tick_temp.append(tic)"
   ]
  },
  {
   "cell_type": "code",
   "execution_count": 173,
   "metadata": {},
   "outputs": [
    {
     "name": "stdout",
     "output_type": "stream",
     "text": [
      "787\n",
      "787\n",
      "787\n"
     ]
    }
   ],
   "source": [
    "print(len(tick_temp))\n",
    "print(len(anal_name))\n",
    "print(len(val))"
   ]
  },
  {
   "cell_type": "code",
   "execution_count": 174,
   "metadata": {},
   "outputs": [],
   "source": [
    "eps_anal_q3 = pd.DataFrame()\n",
    "eps_anal_q3[\"Ticker\"] = tick_temp\n",
    "eps_anal_q3[\"Analyst\"] = anal_name\n",
    "eps_anal_q3[\"Value\"] = val"
   ]
  },
  {
   "cell_type": "code",
   "execution_count": 175,
   "metadata": {},
   "outputs": [
    {
     "data": {
      "text/html": [
       "<div>\n",
       "<style scoped>\n",
       "    .dataframe tbody tr th:only-of-type {\n",
       "        vertical-align: middle;\n",
       "    }\n",
       "\n",
       "    .dataframe tbody tr th {\n",
       "        vertical-align: top;\n",
       "    }\n",
       "\n",
       "    .dataframe thead th {\n",
       "        text-align: right;\n",
       "    }\n",
       "</style>\n",
       "<table border=\"1\" class=\"dataframe\">\n",
       "  <thead>\n",
       "    <tr style=\"text-align: right;\">\n",
       "      <th></th>\n",
       "      <th>Ticker</th>\n",
       "      <th>Analyst</th>\n",
       "      <th>Value</th>\n",
       "    </tr>\n",
       "  </thead>\n",
       "  <tbody>\n",
       "    <tr>\n",
       "      <th>0</th>\n",
       "      <td>GNC</td>\n",
       "      <td>Analyst_8737541</td>\n",
       "      <td>-0.03</td>\n",
       "    </tr>\n",
       "    <tr>\n",
       "      <th>1</th>\n",
       "      <td>GNC</td>\n",
       "      <td>Sentinel</td>\n",
       "      <td>-0.01</td>\n",
       "    </tr>\n",
       "    <tr>\n",
       "      <th>2</th>\n",
       "      <td>GNC</td>\n",
       "      <td>Bill</td>\n",
       "      <td>0</td>\n",
       "    </tr>\n",
       "    <tr>\n",
       "      <th>3</th>\n",
       "      <td>GNC</td>\n",
       "      <td>Frederick Tremblay</td>\n",
       "      <td>0.02</td>\n",
       "    </tr>\n",
       "    <tr>\n",
       "      <th>4</th>\n",
       "      <td>GNC</td>\n",
       "      <td>Analyst_7411292</td>\n",
       "      <td>-0.10</td>\n",
       "    </tr>\n",
       "  </tbody>\n",
       "</table>\n",
       "</div>"
      ],
      "text/plain": [
       "  Ticker             Analyst  Value\n",
       "0    GNC     Analyst_8737541  -0.03\n",
       "1    GNC            Sentinel  -0.01\n",
       "2    GNC                Bill      0\n",
       "3    GNC  Frederick Tremblay   0.02\n",
       "4    GNC     Analyst_7411292  -0.10"
      ]
     },
     "execution_count": 175,
     "metadata": {},
     "output_type": "execute_result"
    }
   ],
   "source": [
    "eps_anal_q3.head()"
   ]
  },
  {
   "cell_type": "code",
   "execution_count": 176,
   "metadata": {},
   "outputs": [],
   "source": [
    "eps_anal_q3.to_csv(\"EPS_ANAL_Q3.csv\")"
   ]
  },
  {
   "cell_type": "code",
   "execution_count": 177,
   "metadata": {},
   "outputs": [],
   "source": [
    "browser.close()"
   ]
  },
  {
   "cell_type": "markdown",
   "metadata": {},
   "source": [
    "#### EPS Analyst Q4"
   ]
  },
  {
   "cell_type": "code",
   "execution_count": 178,
   "metadata": {},
   "outputs": [],
   "source": [
    "chrome_options = webdriver.ChromeOptions()\n",
    "chrome_options.headless = False\n",
    "browser = webdriver.Chrome(executable_path = './chromedriver.exe',\n",
    "                          options = chrome_options)"
   ]
  },
  {
   "cell_type": "code",
   "execution_count": 180,
   "metadata": {},
   "outputs": [],
   "source": [
    "tick_temp = []\n",
    "noanal_tick = []\n",
    "anal_name = []\n",
    "val = []\n",
    "for tic in new_tick_list:\n",
    "    url = \"https://www.estimize.com/\" + tic + \"/fq4-2019?metric_name=eps&chart=table\"\n",
    "    browser.get(url)\n",
    "    time.sleep(10)\n",
    "    strl = (browser.find_element_by_xpath('//*[@id=\"estimates\"]/p[1]').text).split(\" \")[1].split(\"/\")[1]\n",
    "    strl = int(strl)\n",
    "    flag = 1\n",
    "    if(strl==0):\n",
    "        flag=0\n",
    "        noanal_tick.append(tic)\n",
    "        continue\n",
    "    elif(strl>30):\n",
    "        more_est = browser.find_element_by_xpath('//*[@id=\"estimates\"]/div/a')\n",
    "        more_est.click()\n",
    "    elif (tic==\"VSI\" or tic == \"L\"or tic==\"SSI\" or tic == \"CATO\"):\n",
    "        for i in range(1,strl+1):\n",
    "            anal_name.append(browser.find_element_by_xpath('//*[@id=\"estimates\"]/table/tbody[2]/tr['+str(i)+']/td[3]/a[2]').text)\n",
    "            val.append(browser.find_element_by_xpath('//*[@id=\"estimates\"]/table/tbody[2]/tr['+str(i)+']/td[4]').text)\n",
    "        \n",
    "        \n",
    "        if(flag): \n",
    "            for i in range(strl): tick_temp.append(tic)\n",
    "        continue\n",
    "    for i in range(1,strl+1):\n",
    "        anal_name.append(browser.find_element_by_xpath('//*[@id=\"estimates\"]/table/tbody[2]/tr['+str(i)+']/td[3]/a[2]').text)\n",
    "        val.append(browser.find_element_by_xpath('//*[@id=\"estimates\"]/table/tbody[2]/tr['+str(i)+']/td[6]').text)\n",
    "        \n",
    "    if(flag): \n",
    "        for i in range(strl): tick_temp.append(tic)"
   ]
  },
  {
   "cell_type": "code",
   "execution_count": 181,
   "metadata": {},
   "outputs": [
    {
     "name": "stdout",
     "output_type": "stream",
     "text": [
      "715\n",
      "715\n",
      "715\n"
     ]
    }
   ],
   "source": [
    "print(len(tick_temp))\n",
    "print(len(anal_name))\n",
    "print(len(val))"
   ]
  },
  {
   "cell_type": "code",
   "execution_count": 182,
   "metadata": {},
   "outputs": [],
   "source": [
    "eps_anal_q4 = pd.DataFrame()\n",
    "eps_anal_q4[\"Ticker\"] = tick_temp\n",
    "eps_anal_q4[\"Analyst\"] = anal_name\n",
    "eps_anal_q4[\"Value\"] = val"
   ]
  },
  {
   "cell_type": "code",
   "execution_count": 183,
   "metadata": {},
   "outputs": [
    {
     "data": {
      "text/html": [
       "<div>\n",
       "<style scoped>\n",
       "    .dataframe tbody tr th:only-of-type {\n",
       "        vertical-align: middle;\n",
       "    }\n",
       "\n",
       "    .dataframe tbody tr th {\n",
       "        vertical-align: top;\n",
       "    }\n",
       "\n",
       "    .dataframe thead th {\n",
       "        text-align: right;\n",
       "    }\n",
       "</style>\n",
       "<table border=\"1\" class=\"dataframe\">\n",
       "  <thead>\n",
       "    <tr style=\"text-align: right;\">\n",
       "      <th></th>\n",
       "      <th>Ticker</th>\n",
       "      <th>Analyst</th>\n",
       "      <th>Value</th>\n",
       "    </tr>\n",
       "  </thead>\n",
       "  <tbody>\n",
       "    <tr>\n",
       "      <th>0</th>\n",
       "      <td>GNC</td>\n",
       "      <td>Bill</td>\n",
       "      <td>-0.03</td>\n",
       "    </tr>\n",
       "    <tr>\n",
       "      <th>1</th>\n",
       "      <td>GNC</td>\n",
       "      <td>Sentinel</td>\n",
       "      <td>-0.01</td>\n",
       "    </tr>\n",
       "    <tr>\n",
       "      <th>2</th>\n",
       "      <td>GNC</td>\n",
       "      <td>Frederick Tremblay</td>\n",
       "      <td>-0.01</td>\n",
       "    </tr>\n",
       "    <tr>\n",
       "      <th>3</th>\n",
       "      <td>GNC</td>\n",
       "      <td>Analyst_2855865</td>\n",
       "      <td>0</td>\n",
       "    </tr>\n",
       "    <tr>\n",
       "      <th>4</th>\n",
       "      <td>GNC</td>\n",
       "      <td>Analyst_4146227</td>\n",
       "      <td>0.03</td>\n",
       "    </tr>\n",
       "  </tbody>\n",
       "</table>\n",
       "</div>"
      ],
      "text/plain": [
       "  Ticker             Analyst  Value\n",
       "0    GNC                Bill  -0.03\n",
       "1    GNC            Sentinel  -0.01\n",
       "2    GNC  Frederick Tremblay  -0.01\n",
       "3    GNC     Analyst_2855865      0\n",
       "4    GNC     Analyst_4146227   0.03"
      ]
     },
     "execution_count": 183,
     "metadata": {},
     "output_type": "execute_result"
    }
   ],
   "source": [
    "eps_anal_q4.head()"
   ]
  },
  {
   "cell_type": "code",
   "execution_count": 184,
   "metadata": {},
   "outputs": [],
   "source": [
    "eps_anal_q4.to_csv(\"EPS_ANAL_Q4.csv\")"
   ]
  },
  {
   "cell_type": "code",
   "execution_count": 185,
   "metadata": {},
   "outputs": [],
   "source": [
    "browser.close()"
   ]
  },
  {
   "cell_type": "code",
   "execution_count": null,
   "metadata": {},
   "outputs": [],
   "source": []
  },
  {
   "cell_type": "markdown",
   "metadata": {},
   "source": [
    "### Part C"
   ]
  },
  {
   "cell_type": "markdown",
   "metadata": {},
   "source": [
    "##### Analysts Data"
   ]
  },
  {
   "cell_type": "code",
   "execution_count": 21,
   "metadata": {},
   "outputs": [],
   "source": [
    "chrome_options = webdriver.ChromeOptions()\n",
    "chrome_options.headless = False\n",
    "browser = webdriver.Chrome(executable_path = './chromedriver.exe',\n",
    "                          options = chrome_options)"
   ]
  },
  {
   "cell_type": "code",
   "execution_count": 22,
   "metadata": {},
   "outputs": [],
   "source": [
    "url = \"https://www.estimize.com/GPS/fq4-2019?metric_name=eps&chart=table\"\n",
    "browser.get(url)"
   ]
  },
  {
   "cell_type": "code",
   "execution_count": 23,
   "metadata": {},
   "outputs": [
    {
     "data": {
      "text/plain": [
       "'BillB1210'"
      ]
     },
     "execution_count": 23,
     "metadata": {},
     "output_type": "execute_result"
    }
   ],
   "source": [
    "browser.find_element_by_xpath('//*[@id=\"estimates\"]/table/tbody[2]/tr[2]/td[3]/a[3]/p').text"
   ]
  },
  {
   "cell_type": "code",
   "execution_count": 25,
   "metadata": {},
   "outputs": [],
   "source": [
    "tick_temp = []\n",
    "anal_userid = []\n",
    "noanal_tick = []\n",
    "for tic in new_tick_list:\n",
    "    url = \"https://www.estimize.com/\" + tic + \"/fq4-2019?metric_name=eps&chart=table\"\n",
    "    browser.get(url)\n",
    "    time.sleep(5)\n",
    "    strl = (browser.find_element_by_xpath('//*[@id=\"estimates\"]/p[1]').text).split(\" \")[1].split(\"/\")[1]\n",
    "    strl = int(strl)\n",
    "    flag = 1\n",
    "    if(strl==0):\n",
    "        flag=0\n",
    "        noanal_tick.append(tic)\n",
    "        continue\n",
    "    elif(strl>30):\n",
    "        more_est = browser.find_element_by_xpath('//*[@id=\"estimates\"]/div/a')\n",
    "        more_est.click()\n",
    "    elif (tic==\"VSI\" or tic == \"L\"or tic==\"SSI\" or tic == \"CATO\"):\n",
    "        for i in range(1,strl+1):\n",
    "            anal_userid.append(browser.find_element_by_xpath('//*[@id=\"estimates\"]/table/tbody[2]/tr['+str(i)+']/td[3]/a[3]/p').text)\n",
    "        continue\n",
    "    for i in range(1,strl+1):\n",
    "        anal_userid.append(browser.find_element_by_xpath('//*[@id=\"estimates\"]/table/tbody[2]/tr['+str(i)+']/td[3]/a[3]/p').text)        "
   ]
  },
  {
   "cell_type": "code",
   "execution_count": 26,
   "metadata": {},
   "outputs": [],
   "source": [
    "anal_user_id = list(set(anal_userid))"
   ]
  },
  {
   "cell_type": "code",
   "execution_count": 27,
   "metadata": {},
   "outputs": [
    {
     "data": {
      "text/plain": [
       "319"
      ]
     },
     "execution_count": 27,
     "metadata": {},
     "output_type": "execute_result"
    }
   ],
   "source": [
    "len(anal_user_id)"
   ]
  },
  {
   "cell_type": "code",
   "execution_count": 30,
   "metadata": {},
   "outputs": [],
   "source": [
    "analysts = pd.DataFrame()\n",
    "analysts[\"Analysts\"] = anal_user_id\n",
    "analysts.to_csv(\"Analysts.csv\")"
   ]
  },
  {
   "cell_type": "code",
   "execution_count": 49,
   "metadata": {},
   "outputs": [],
   "source": [
    "users = pd.read_csv(\"Analysts.csv\")\n",
    "analysts_users = users[\"Analysts\"].to_list()"
   ]
  },
  {
   "cell_type": "code",
   "execution_count": 50,
   "metadata": {},
   "outputs": [],
   "source": [
    "analysts_users = [user.lower() for user in analysts_users]"
   ]
  },
  {
   "cell_type": "code",
   "execution_count": 51,
   "metadata": {},
   "outputs": [
    {
     "data": {
      "text/plain": [
       "318"
      ]
     },
     "execution_count": 51,
     "metadata": {},
     "output_type": "execute_result"
    }
   ],
   "source": [
    "len(analysts_users)"
   ]
  },
  {
   "cell_type": "code",
   "execution_count": 52,
   "metadata": {},
   "outputs": [],
   "source": [
    "import requests\n",
    "import urllib"
   ]
  },
  {
   "cell_type": "code",
   "execution_count": 53,
   "metadata": {},
   "outputs": [],
   "source": [
    "url = 'https://www.estimize.com/users/loopie'"
   ]
  },
  {
   "cell_type": "code",
   "execution_count": 54,
   "metadata": {},
   "outputs": [],
   "source": [
    "browser.get(url)"
   ]
  },
  {
   "cell_type": "code",
   "execution_count": 117,
   "metadata": {},
   "outputs": [
    {
     "ename": "KeyboardInterrupt",
     "evalue": "",
     "output_type": "error",
     "traceback": [
      "\u001b[1;31m---------------------------------------------------------------------------\u001b[0m",
      "\u001b[1;31mKeyboardInterrupt\u001b[0m                         Traceback (most recent call last)",
      "\u001b[1;32m<ipython-input-117-50a366ab9f89>\u001b[0m in \u001b[0;36m<module>\u001b[1;34m\u001b[0m\n\u001b[0;32m     25\u001b[0m     \u001b[1;32mif\u001b[0m\u001b[1;33m(\u001b[0m\u001b[0mflag\u001b[0m\u001b[1;33m)\u001b[0m\u001b[1;33m:\u001b[0m\u001b[1;33m\u001b[0m\u001b[1;33m\u001b[0m\u001b[0m\n\u001b[0;32m     26\u001b[0m         \u001b[0mbrowser\u001b[0m\u001b[1;33m.\u001b[0m\u001b[0mget\u001b[0m\u001b[1;33m(\u001b[0m\u001b[0murl\u001b[0m\u001b[1;33m)\u001b[0m\u001b[1;33m\u001b[0m\u001b[1;33m\u001b[0m\u001b[0m\n\u001b[1;32m---> 27\u001b[1;33m         \u001b[0mtime\u001b[0m\u001b[1;33m.\u001b[0m\u001b[0msleep\u001b[0m\u001b[1;33m(\u001b[0m\u001b[1;36m3\u001b[0m\u001b[1;33m)\u001b[0m\u001b[1;33m\u001b[0m\u001b[1;33m\u001b[0m\u001b[0m\n\u001b[0m\u001b[0;32m     28\u001b[0m         \u001b[0manal_name\u001b[0m\u001b[1;33m.\u001b[0m\u001b[0mappend\u001b[0m\u001b[1;33m(\u001b[0m\u001b[0mbrowser\u001b[0m\u001b[1;33m.\u001b[0m\u001b[0mfind_element_by_xpath\u001b[0m\u001b[1;33m(\u001b[0m\u001b[1;34m'//*[@id=\"users_show\"]/div[4]/div[1]/div[2]/div[1]/div/h1/a'\u001b[0m\u001b[1;33m)\u001b[0m\u001b[1;33m.\u001b[0m\u001b[0mtext\u001b[0m\u001b[1;33m)\u001b[0m\u001b[1;33m\u001b[0m\u001b[1;33m\u001b[0m\u001b[0m\n\u001b[0;32m     29\u001b[0m         \u001b[0manal_user\u001b[0m\u001b[1;33m.\u001b[0m\u001b[0mappend\u001b[0m\u001b[1;33m(\u001b[0m\u001b[0mbrowser\u001b[0m\u001b[1;33m.\u001b[0m\u001b[0mfind_element_by_xpath\u001b[0m\u001b[1;33m(\u001b[0m\u001b[1;34m'//*[@id=\"users_show\"]/div[4]/div[1]/div[2]/div[1]/div/p[1]/a'\u001b[0m\u001b[1;33m)\u001b[0m\u001b[1;33m.\u001b[0m\u001b[0mtext\u001b[0m\u001b[1;33m)\u001b[0m\u001b[1;33m\u001b[0m\u001b[1;33m\u001b[0m\u001b[0m\n",
      "\u001b[1;31mKeyboardInterrupt\u001b[0m: "
     ]
    }
   ],
   "source": [
    "member = ''\n",
    "anal_name=[]\n",
    "anal_user = []\n",
    "roles=[]\n",
    "joindate = []\n",
    "conf_score = []\n",
    "error = []\n",
    "accuracy_ptile = []\n",
    "points = []\n",
    "point_est = []\n",
    "stocks = []\n",
    "pend_est = []\n",
    "for user in analysts_users:\n",
    "#     print(user)\n",
    "#     break\n",
    "    url = 'https://www.estimize.com/users/' + user\n",
    "#     if(user==\"BillB1210\"): browser.get(url)\n",
    "    flag=1\n",
    "    response = requests.get(url)\n",
    "    if response.status_code == 200:\n",
    "        flag=1\n",
    "    else:\n",
    "        flag=0\n",
    "    \n",
    "    if(flag):\n",
    "        browser.get(url)\n",
    "        time.sleep(3)\n",
    "        anal_name.append(browser.find_element_by_xpath('//*[@id=\"users_show\"]/div[4]/div[1]/div[2]/div[1]/div/h1/a').text)\n",
    "        anal_user.append(browser.find_element_by_xpath('//*[@id=\"users_show\"]/div[4]/div[1]/div[2]/div[1]/div/p[1]/a').text)\n",
    "        try:\n",
    "            el = browser.find_element_by_xpath('//*[@id=\"users_show\"]/div[4]/div[1]/div[2]/div[1]/div/ul/li[1]')\n",
    "            roles.append(el.text)\n",
    "        except NoSuchElementException:\n",
    "            roles.append(' ')\n",
    "        \n",
    "        member=(browser.find_element_by_xpath('//*[@id=\"users_show\"]/div[4]/div[1]/div[2]/div[1]/div/div[2]/div[2]').text).split(' - ')[0]\n",
    "        member = member.split(' ')\n",
    "        member = [member[2],member[3]]\n",
    "        member = ' '.join(member)\n",
    "        joindate.append(member)\n",
    "        conf_score.append(browser.find_element_by_xpath('//*[@id=\"confidence-wrap\"]/div/div[2]').text)\n",
    "        error.append(browser.find_element_by_xpath('//*[@id=\"profile-tab-wrap\"]/div[1]/div[1]/div[1]').text)\n",
    "        accuracy_ptile.append(browser.find_element_by_xpath('//*[@id=\"profile-tab-wrap\"]/div[1]/div[2]/div[1]').text)\n",
    "        points.append(browser.find_element_by_xpath('//*[@id=\"profile-tab-wrap\"]/div[2]/div[1]/div[1]').text)\n",
    "        point_est.append(browser.find_element_by_xpath('//*[@id=\"profile-tab-wrap\"]/div[2]/div[2]/div[1]').text)\n",
    "        stocks.append(browser.find_element_by_xpath('//*[@id=\"profile-tab-wrap\"]/div[3]/div[1]/div[1]').text)\n",
    "        pend_est.append(browser.find_element_by_xpath('//*[@id=\"profile-tab-wrap\"]/div[3]/div[2]/div[1]').text)\n",
    "        "
   ]
  },
  {
   "cell_type": "code",
   "execution_count": 70,
   "metadata": {},
   "outputs": [],
   "source": [
    "analysts_info = pd.DataFrame()\n",
    "analysts_info[\"Analyst_Name\"] = anal_name\n",
    "analysts_info[\"Username\"] = anal_user\n",
    "analysts_info[\"Roles\"] = roles\n",
    "analysts_info[\"Join_date\"] = joindate\n",
    "analysts_info[\"Confidence\"] = conf_score\n",
    "analysts_info[\"Error\"] = error\n",
    "analysts_info[\"Accuracy_Percentile\"] = accuracy_ptile\n",
    "analysts_info[\"Points\"] = points\n",
    "analysts_info[\"Points_Estimate\"] = point_est\n",
    "analysts_info[\"Stocks\"] = stocks\n",
    "analysts_info[\"Pending_Estimates\"] = pend_est"
   ]
  },
  {
   "cell_type": "code",
   "execution_count": 73,
   "metadata": {},
   "outputs": [
    {
     "data": {
      "text/html": [
       "<div>\n",
       "<style scoped>\n",
       "    .dataframe tbody tr th:only-of-type {\n",
       "        vertical-align: middle;\n",
       "    }\n",
       "\n",
       "    .dataframe tbody tr th {\n",
       "        vertical-align: top;\n",
       "    }\n",
       "\n",
       "    .dataframe thead th {\n",
       "        text-align: right;\n",
       "    }\n",
       "</style>\n",
       "<table border=\"1\" class=\"dataframe\">\n",
       "  <thead>\n",
       "    <tr style=\"text-align: right;\">\n",
       "      <th></th>\n",
       "      <th>Analyst_Name</th>\n",
       "      <th>Username</th>\n",
       "      <th>Roles</th>\n",
       "      <th>Join_date</th>\n",
       "      <th>Confidence</th>\n",
       "      <th>Error</th>\n",
       "      <th>Accuracy_Percentile</th>\n",
       "      <th>Points</th>\n",
       "      <th>Points_Estimate</th>\n",
       "      <th>Stocks</th>\n",
       "      <th>Pending_Estimates</th>\n",
       "    </tr>\n",
       "  </thead>\n",
       "  <tbody>\n",
       "    <tr>\n",
       "      <th>0</th>\n",
       "      <td>Analyst_2628177</td>\n",
       "      <td>Analyst_2628177</td>\n",
       "      <td>Non Professional</td>\n",
       "      <td>Mar 2019</td>\n",
       "      <td>7.2</td>\n",
       "      <td>-</td>\n",
       "      <td>-</td>\n",
       "      <td>-</td>\n",
       "      <td>-</td>\n",
       "      <td>-</td>\n",
       "      <td>0</td>\n",
       "    </tr>\n",
       "    <tr>\n",
       "      <th>1</th>\n",
       "      <td>loopie</td>\n",
       "      <td>loopie</td>\n",
       "      <td>Non Professional</td>\n",
       "      <td>Jul 2015</td>\n",
       "      <td>8.1</td>\n",
       "      <td>13.5%</td>\n",
       "      <td>58%</td>\n",
       "      <td>194</td>\n",
       "      <td>11.4</td>\n",
       "      <td>17</td>\n",
       "      <td>0</td>\n",
       "    </tr>\n",
       "    <tr>\n",
       "      <th>2</th>\n",
       "      <td>rsreina</td>\n",
       "      <td>rsreina</td>\n",
       "      <td>Non Professional</td>\n",
       "      <td>Oct 2014</td>\n",
       "      <td>7.9</td>\n",
       "      <td>10.5%</td>\n",
       "      <td>57%</td>\n",
       "      <td>291</td>\n",
       "      <td>14.6</td>\n",
       "      <td>20</td>\n",
       "      <td>21</td>\n",
       "    </tr>\n",
       "    <tr>\n",
       "      <th>3</th>\n",
       "      <td>Analyst_1468046</td>\n",
       "      <td>Analyst_1468046</td>\n",
       "      <td></td>\n",
       "      <td>Feb 2016</td>\n",
       "      <td>7.8</td>\n",
       "      <td>-</td>\n",
       "      <td>-</td>\n",
       "      <td>-</td>\n",
       "      <td>-</td>\n",
       "      <td>-</td>\n",
       "      <td>0</td>\n",
       "    </tr>\n",
       "    <tr>\n",
       "      <th>4</th>\n",
       "      <td>Petr</td>\n",
       "      <td>Filousik</td>\n",
       "      <td>Non Professional</td>\n",
       "      <td>May 2013</td>\n",
       "      <td>4.6</td>\n",
       "      <td>-</td>\n",
       "      <td>-</td>\n",
       "      <td>-</td>\n",
       "      <td>-</td>\n",
       "      <td>-</td>\n",
       "      <td>0</td>\n",
       "    </tr>\n",
       "  </tbody>\n",
       "</table>\n",
       "</div>"
      ],
      "text/plain": [
       "      Analyst_Name         Username             Roles Join_date Confidence  \\\n",
       "0  Analyst_2628177  Analyst_2628177  Non Professional  Mar 2019        7.2   \n",
       "1           loopie           loopie  Non Professional  Jul 2015        8.1   \n",
       "2          rsreina          rsreina  Non Professional  Oct 2014        7.9   \n",
       "3  Analyst_1468046  Analyst_1468046                    Feb 2016        7.8   \n",
       "4             Petr         Filousik  Non Professional  May 2013        4.6   \n",
       "\n",
       "   Error Accuracy_Percentile Points Points_Estimate Stocks Pending_Estimates  \n",
       "0      -                   -      -               -      -                 0  \n",
       "1  13.5%                 58%    194            11.4     17                 0  \n",
       "2  10.5%                 57%    291            14.6     20                21  \n",
       "3      -                   -      -               -      -                 0  \n",
       "4      -                   -      -               -      -                 0  "
      ]
     },
     "execution_count": 73,
     "metadata": {},
     "output_type": "execute_result"
    }
   ],
   "source": [
    "analysts_info.head()"
   ]
  },
  {
   "cell_type": "code",
   "execution_count": 74,
   "metadata": {},
   "outputs": [],
   "source": [
    "analysts_info.to_csv(\"Analysts Info.csv\")"
   ]
  },
  {
   "cell_type": "code",
   "execution_count": null,
   "metadata": {},
   "outputs": [],
   "source": []
  },
  {
   "cell_type": "code",
   "execution_count": 75,
   "metadata": {},
   "outputs": [],
   "source": [
    "browser.close()"
   ]
  },
  {
   "cell_type": "markdown",
   "metadata": {},
   "source": [
    "##### Figure 5,6,7"
   ]
  },
  {
   "cell_type": "markdown",
   "metadata": {},
   "source": [
    "##### Stocks"
   ]
  },
  {
   "cell_type": "code",
   "execution_count": 198,
   "metadata": {},
   "outputs": [],
   "source": [
    "chrome_options = webdriver.ChromeOptions()\n",
    "chrome_options.headless = False\n",
    "browser = webdriver.Chrome(executable_path = './chromedriver.exe',\n",
    "                          options = chrome_options)"
   ]
  },
  {
   "cell_type": "code",
   "execution_count": 174,
   "metadata": {},
   "outputs": [],
   "source": [
    "url = 'https://www.estimize.com/users/analyst_2628177'"
   ]
  },
  {
   "cell_type": "code",
   "execution_count": 175,
   "metadata": {},
   "outputs": [],
   "source": [
    "browser.get(url)"
   ]
  },
  {
   "cell_type": "code",
   "execution_count": 176,
   "metadata": {},
   "outputs": [
    {
     "data": {
      "text/plain": [
       "'Analyst_2628177'"
      ]
     },
     "execution_count": 176,
     "metadata": {},
     "output_type": "execute_result"
    }
   ],
   "source": [
    "browser.find_element_by_xpath('//*[@id=\"users_show\"]/div[4]/div[1]/div[2]/div[1]/div/h1').text"
   ]
  },
  {
   "cell_type": "code",
   "execution_count": 177,
   "metadata": {},
   "outputs": [],
   "source": [
    "browser.execute_script(\"window.scrollTo(0, window.scrollY + 1200)\")"
   ]
  },
  {
   "cell_type": "code",
   "execution_count": 109,
   "metadata": {},
   "outputs": [],
   "source": [
    "anal_info = pd.read_csv('Analysts Info.csv')"
   ]
  },
  {
   "cell_type": "code",
   "execution_count": 119,
   "metadata": {},
   "outputs": [],
   "source": [
    "users = anal_info.Username.tolist()\n",
    "users = [user.lower() for user in users]"
   ]
  },
  {
   "cell_type": "code",
   "execution_count": 152,
   "metadata": {},
   "outputs": [
    {
     "data": {
      "text/plain": [
       "1"
      ]
     },
     "execution_count": 152,
     "metadata": {},
     "output_type": "execute_result"
    }
   ],
   "source": [
    "len_est = int(browser.find_element_by_xpath('//*[@id=\"profile-covered-stocks-wrap\"]/p/strong/span[2]').text)\n",
    "len_est"
   ]
  },
  {
   "cell_type": "code",
   "execution_count": 187,
   "metadata": {},
   "outputs": [
    {
     "name": "stdout",
     "output_type": "stream",
     "text": [
      "kek\n"
     ]
    }
   ],
   "source": [
    "count=0\n",
    "try:\n",
    "    for i in range(1,31):\n",
    "        tick.append(browser.find_element_by_xpath('//*[@id=\"profile-covered-stocks\"]/div[1]/div[2]/div['+str(i)+']/div[1]/a/strong').text)\n",
    "        report.append(browser.find_element_by_xpath('//*[@id=\"profile-covered-stocks\"]/div[1]/div[2]/div['+str(i)+']/div[2]').text)\n",
    "        quarters.append(browser.find_element_by_xpath('//*[@id=\"profile-covered-stocks\"]/div[1]/div[2]/div['+str(i)+']/div[3]').text)\n",
    "        points.append(browser.find_element_by_xpath('//*[@id=\"profile-covered-stocks\"]/div[1]/div[2]/div['+str(i)+']/div[4]').text)\n",
    "        pts_ets.append(browser.find_element_by_xpath('//*[@id=\"profile-covered-stocks\"]/div[1]/div[2]/div['+str(i)+']/div[5]').text)\n",
    "        e_rate.append(browser.find_element_by_xpath('//*[@id=\"profile-covered-stocks\"]/div[1]/div[2]/div['+str(i)+']/div[6]').text)\n",
    "        acc.append(browser.find_element_by_xpath('//*[@id=\"profile-covered-stocks\"]/div[1]/div[2]/div['+str(i)+']/div[7]').text)\n",
    "        count+=1\n",
    "\n",
    "except:\n",
    "    print(\"kek\")"
   ]
  },
  {
   "cell_type": "code",
   "execution_count": 195,
   "metadata": {},
   "outputs": [
    {
     "data": {
      "text/plain": [
       "['Analyst_2628177']"
      ]
     },
     "execution_count": 195,
     "metadata": {},
     "output_type": "execute_result"
    }
   ],
   "source": [
    "count\n",
    "anal = (browser.find_element_by_xpath('//*[@id=\"users_show\"]/div[4]/div[1]/div[2]/div[1]/div/h1/a').text)\n",
    "gg = [anal for i in range(count)]\n",
    "gg"
   ]
  },
  {
   "cell_type": "code",
   "execution_count": 199,
   "metadata": {},
   "outputs": [],
   "source": [
    "anal_name = []\n",
    "tick = []\n",
    "report = []\n",
    "quarters = []\n",
    "points = []\n",
    "pts_ets = []\n",
    "e_rate = []\n",
    "acc = []\n",
    "\n",
    "\n",
    "for user in users:\n",
    "    \n",
    "    url = 'https://www.estimize.com/users/'+user\n",
    "    \n",
    "    browser.get(url)\n",
    "    browser.execute_script(\"window.scrollTo(0, window.scrollY + 1200)\")\n",
    "    time.sleep(5)\n",
    "    \n",
    "    for a in range(0,1):\n",
    "        try:\n",
    "            if(browser.find_element_by_xpath('//*[@id=\"profile-covered-stocks\"]/div[2]/a')):\n",
    "                a=browser.find_element_by_xpath('//*[@id=\"profile-covered-stocks\"]/div[2]/a')\n",
    "                a.click()\n",
    "        except NoSuchElementException:\n",
    "            break\n",
    "    try:\n",
    "        for i in range(1,31):\n",
    "            tick.append(browser.find_element_by_xpath('//*[@id=\"profile-covered-stocks\"]/div[1]/div[2]/div['+str(i)+']/div[1]/a/strong').text)\n",
    "            report.append(browser.find_element_by_xpath('//*[@id=\"profile-covered-stocks\"]/div[1]/div[2]/div['+str(i)+']/div[2]').text)\n",
    "            quarters.append(browser.find_element_by_xpath('//*[@id=\"profile-covered-stocks\"]/div[1]/div[2]/div['+str(i)+']/div[3]').text)\n",
    "            points.append(browser.find_element_by_xpath('//*[@id=\"profile-covered-stocks\"]/div[1]/div[2]/div['+str(i)+']/div[4]').text)\n",
    "            pts_ets.append(browser.find_element_by_xpath('//*[@id=\"profile-covered-stocks\"]/div[1]/div[2]/div['+str(i)+']/div[5]').text)\n",
    "            e_rate.append(browser.find_element_by_xpath('//*[@id=\"profile-covered-stocks\"]/div[1]/div[2]/div['+str(i)+']/div[6]').text)\n",
    "            acc.append(browser.find_element_by_xpath('//*[@id=\"profile-covered-stocks\"]/div[1]/div[2]/div['+str(i)+']/div[7]').text)\n",
    "            anal_name.append(browser.find_element_by_xpath('//*[@id=\"users_show\"]/div[4]/div[1]/div[2]/div[1]/div/h1/a').text)\n",
    "\n",
    "    except:\n",
    "        continue\n",
    "            "
   ]
  },
  {
   "cell_type": "code",
   "execution_count": null,
   "metadata": {},
   "outputs": [],
   "source": []
  },
  {
   "cell_type": "code",
   "execution_count": 200,
   "metadata": {},
   "outputs": [
    {
     "name": "stdout",
     "output_type": "stream",
     "text": [
      "3279 3279 3279 3279 3279 3279 3279 3279\n"
     ]
    }
   ],
   "source": [
    "print(len(anal_name), len(tick), len(report), len(quarters), len(points), len(pts_ets), len(e_rate), len(acc))"
   ]
  },
  {
   "cell_type": "code",
   "execution_count": 202,
   "metadata": {},
   "outputs": [],
   "source": [
    "analysts_stocks = pd.DataFrame()\n",
    "analysts_stocks[\"Analysts\"] = anal_name\n",
    "analysts_stocks[\"Ticker\"] = tick\n",
    "analysts_stocks[\"Report\"] = report\n",
    "analysts_stocks[\"Quarters\"] = quarters\n",
    "analysts_stocks[\"Points\"] = points\n",
    "analysts_stocks[\"Points_Estimate\"] = pts_ets\n",
    "analysts_stocks[\"Estimate_rate\"] = e_rate\n",
    "analysts_stocks[\"Accuracy\"] = acc"
   ]
  },
  {
   "cell_type": "code",
   "execution_count": 204,
   "metadata": {},
   "outputs": [
    {
     "data": {
      "text/html": [
       "<div>\n",
       "<style scoped>\n",
       "    .dataframe tbody tr th:only-of-type {\n",
       "        vertical-align: middle;\n",
       "    }\n",
       "\n",
       "    .dataframe tbody tr th {\n",
       "        vertical-align: top;\n",
       "    }\n",
       "\n",
       "    .dataframe thead th {\n",
       "        text-align: right;\n",
       "    }\n",
       "</style>\n",
       "<table border=\"1\" class=\"dataframe\">\n",
       "  <thead>\n",
       "    <tr style=\"text-align: right;\">\n",
       "      <th></th>\n",
       "      <th>Analysts</th>\n",
       "      <th>Ticker</th>\n",
       "      <th>Report</th>\n",
       "      <th>Quarters</th>\n",
       "      <th>Points</th>\n",
       "      <th>Points_Estimate</th>\n",
       "      <th>Estimate_rate</th>\n",
       "      <th>Accuracy</th>\n",
       "    </tr>\n",
       "  </thead>\n",
       "  <tbody>\n",
       "    <tr>\n",
       "      <th>0</th>\n",
       "      <td>Analyst_2628177</td>\n",
       "      <td>HIBB</td>\n",
       "      <td>Mar 11</td>\n",
       "      <td>1</td>\n",
       "      <td>27</td>\n",
       "      <td>27</td>\n",
       "      <td>16.9%</td>\n",
       "      <td>71%</td>\n",
       "    </tr>\n",
       "    <tr>\n",
       "      <th>1</th>\n",
       "      <td>loopie</td>\n",
       "      <td>NFLX</td>\n",
       "      <td>Jan 18</td>\n",
       "      <td>17</td>\n",
       "      <td>303</td>\n",
       "      <td>17.8</td>\n",
       "      <td>10.7%</td>\n",
       "      <td>66%</td>\n",
       "    </tr>\n",
       "    <tr>\n",
       "      <th>2</th>\n",
       "      <td>loopie</td>\n",
       "      <td>GOOGL</td>\n",
       "      <td>Feb 2</td>\n",
       "      <td>16</td>\n",
       "      <td>257</td>\n",
       "      <td>16.1</td>\n",
       "      <td>7.7%</td>\n",
       "      <td>56%</td>\n",
       "    </tr>\n",
       "    <tr>\n",
       "      <th>3</th>\n",
       "      <td>loopie</td>\n",
       "      <td>BIDU</td>\n",
       "      <td>Feb 24</td>\n",
       "      <td>16</td>\n",
       "      <td>262</td>\n",
       "      <td>16.4</td>\n",
       "      <td>13.1%</td>\n",
       "      <td>53%</td>\n",
       "    </tr>\n",
       "    <tr>\n",
       "      <th>4</th>\n",
       "      <td>loopie</td>\n",
       "      <td>AMZN</td>\n",
       "      <td>Feb 3</td>\n",
       "      <td>16</td>\n",
       "      <td>208</td>\n",
       "      <td>13</td>\n",
       "      <td>26.9%</td>\n",
       "      <td>59%</td>\n",
       "    </tr>\n",
       "  </tbody>\n",
       "</table>\n",
       "</div>"
      ],
      "text/plain": [
       "          Analysts Ticker  Report Quarters Points Points_Estimate  \\\n",
       "0  Analyst_2628177   HIBB  Mar 11        1     27              27   \n",
       "1           loopie   NFLX  Jan 18       17    303            17.8   \n",
       "2           loopie  GOOGL   Feb 2       16    257            16.1   \n",
       "3           loopie   BIDU  Feb 24       16    262            16.4   \n",
       "4           loopie   AMZN   Feb 3       16    208              13   \n",
       "\n",
       "  Estimate_rate Accuracy  \n",
       "0         16.9%      71%  \n",
       "1         10.7%      66%  \n",
       "2          7.7%      56%  \n",
       "3         13.1%      53%  \n",
       "4         26.9%      59%  "
      ]
     },
     "execution_count": 204,
     "metadata": {},
     "output_type": "execute_result"
    }
   ],
   "source": [
    "analysts_stocks.head()"
   ]
  },
  {
   "cell_type": "code",
   "execution_count": 206,
   "metadata": {},
   "outputs": [],
   "source": [
    "analysts_stocks.to_csv(\"Analysts Stocks.csv\")"
   ]
  },
  {
   "cell_type": "markdown",
   "metadata": {},
   "source": [
    "##### Pending Estimates"
   ]
  },
  {
   "cell_type": "code",
   "execution_count": 237,
   "metadata": {},
   "outputs": [],
   "source": [
    "chrome_options = webdriver.ChromeOptions()\n",
    "chrome_options.headless = False\n",
    "browser = webdriver.Chrome(executable_path = './chromedriver.exe',\n",
    "                          options = chrome_options)"
   ]
  },
  {
   "cell_type": "code",
   "execution_count": 238,
   "metadata": {},
   "outputs": [],
   "source": [
    "browser.get('https://www.estimize.com/users/tv447703')"
   ]
  },
  {
   "cell_type": "code",
   "execution_count": 232,
   "metadata": {},
   "outputs": [],
   "source": [
    "browser.execute_script(\"window.scrollTo(0, window.scrollY + 1400)\")"
   ]
  },
  {
   "cell_type": "code",
   "execution_count": 265,
   "metadata": {},
   "outputs": [],
   "source": [
    "anal_name = []\n",
    "tick = []\n",
    "quarter = []\n",
    "reports = []\n",
    "published = []\n",
    "eps = []\n",
    "revenue = []\n",
    "\n",
    "\n",
    "\n",
    "for user in users:\n",
    "    \n",
    "    url = 'https://www.estimize.com/users/'+user\n",
    "    \n",
    "    browser.get(url)\n",
    "    browser.execute_script(\"window.scrollTo(0, window.scrollY + 1300)\")\n",
    "    time.sleep(5)\n",
    "\n",
    "    for xi in range(0,1):\n",
    "        try:\n",
    "            if(browser.find_element_by_xpath('//*[@id=\"profile-pending-estimates\"]/div[2]')):\n",
    "                button = browser.find_element_by_xpath('//*[@id=\"profile-pending-estimates\"]/div[2]')\n",
    "                button.click()\n",
    "        except NoSuchElementException:\n",
    "            break\n",
    "\n",
    "    try:\n",
    "        for i in range(1,100):\n",
    "            tick.append(browser.find_element_by_xpath('//*[@id=\"profile-pending-estimates\"]/div[1]/div[2]/a['+str(i)+']/div[1]/strong').text)\n",
    "            quarter.append(browser.find_element_by_xpath('//*[@id=\"profile-pending-estimates\"]/div[1]/div[2]/a['+str(i)+']/div[2]').text)\n",
    "            reports.append(browser.find_element_by_xpath('//*[@id=\"profile-pending-estimates\"]/div[1]/div[2]/a['+str(i)+']/div[3]').text)\n",
    "            published.append(browser.find_element_by_xpath('//*[@id=\"profile-pending-estimates\"]/div[1]/div[2]/a['+str(i)+']/div[4]').text)\n",
    "            eps.append(browser.find_element_by_xpath('//*[@id=\"profile-pending-estimates\"]/div[1]/div[2]/a['+str(i)+']/div[5]').text)\n",
    "            revenue.append(browser.find_element_by_xpath('//*[@id=\"profile-pending-estimates\"]/div[1]/div[2]/a['+str(i)+']/div[6]').text)\n",
    "            anal_name.append(browser.find_element_by_xpath('//*[@id=\"users_show\"]/div[4]/div[1]/div[2]/div[1]/div/h1/a').text)\n",
    "    except:\n",
    "        continue"
   ]
  },
  {
   "cell_type": "code",
   "execution_count": 270,
   "metadata": {},
   "outputs": [
    {
     "name": "stdout",
     "output_type": "stream",
     "text": [
      "461 461 461 461 461 461 461\n"
     ]
    }
   ],
   "source": [
    "print(len(tick), len(quarter), len(reports), len(published), len(eps), len(revenue), len(anal_name))"
   ]
  },
  {
   "cell_type": "code",
   "execution_count": 272,
   "metadata": {},
   "outputs": [],
   "source": [
    "analysts_pending = pd.DataFrame()\n",
    "analysts_pending[\"Analyst\"] = anal_name\n",
    "analysts_pending[\"Ticker\"] = tick\n",
    "analysts_pending[\"Reports\"] = reports\n",
    "analysts_pending[\"Published Data\"] = published\n",
    "analysts_pending[\"EPS\"] = eps\n",
    "analysts_pending[\"Revenue\"] = revenue"
   ]
  },
  {
   "cell_type": "code",
   "execution_count": 273,
   "metadata": {},
   "outputs": [
    {
     "data": {
      "text/html": [
       "<div>\n",
       "<style scoped>\n",
       "    .dataframe tbody tr th:only-of-type {\n",
       "        vertical-align: middle;\n",
       "    }\n",
       "\n",
       "    .dataframe tbody tr th {\n",
       "        vertical-align: top;\n",
       "    }\n",
       "\n",
       "    .dataframe thead th {\n",
       "        text-align: right;\n",
       "    }\n",
       "</style>\n",
       "<table border=\"1\" class=\"dataframe\">\n",
       "  <thead>\n",
       "    <tr style=\"text-align: right;\">\n",
       "      <th></th>\n",
       "      <th>Analyst</th>\n",
       "      <th>Ticker</th>\n",
       "      <th>Reports</th>\n",
       "      <th>Published Data</th>\n",
       "      <th>EPS</th>\n",
       "      <th>Revenue</th>\n",
       "    </tr>\n",
       "  </thead>\n",
       "  <tbody>\n",
       "    <tr>\n",
       "      <th>0</th>\n",
       "      <td>rsreina</td>\n",
       "      <td>C</td>\n",
       "      <td>Jan 14, 2022 BMO</td>\n",
       "      <td>Nov 25, 2021</td>\n",
       "      <td>1.88</td>\n",
       "      <td>17,250</td>\n",
       "    </tr>\n",
       "    <tr>\n",
       "      <th>1</th>\n",
       "      <td>rsreina</td>\n",
       "      <td>ASML</td>\n",
       "      <td>Jan 19, 2022 BMO</td>\n",
       "      <td>Dec 7, 2021</td>\n",
       "      <td>4.41</td>\n",
       "      <td>5,995</td>\n",
       "    </tr>\n",
       "    <tr>\n",
       "      <th>2</th>\n",
       "      <td>rsreina</td>\n",
       "      <td>STLD</td>\n",
       "      <td>Jan 24, 2022 AMC</td>\n",
       "      <td>Dec 8, 2021</td>\n",
       "      <td>5.61</td>\n",
       "      <td>5,350</td>\n",
       "    </tr>\n",
       "    <tr>\n",
       "      <th>3</th>\n",
       "      <td>rsreina</td>\n",
       "      <td>IBM</td>\n",
       "      <td>Jan 24, 2022 AMC</td>\n",
       "      <td>Dec 7, 2021</td>\n",
       "      <td>3.46</td>\n",
       "      <td>18,450</td>\n",
       "    </tr>\n",
       "    <tr>\n",
       "      <th>4</th>\n",
       "      <td>rsreina</td>\n",
       "      <td>ABT</td>\n",
       "      <td>Jan 26, 2022 BMO</td>\n",
       "      <td>Dec 5, 2021</td>\n",
       "      <td>1.38</td>\n",
       "      <td>10,750</td>\n",
       "    </tr>\n",
       "  </tbody>\n",
       "</table>\n",
       "</div>"
      ],
      "text/plain": [
       "   Analyst Ticker           Reports Published Data   EPS Revenue\n",
       "0  rsreina      C  Jan 14, 2022 BMO   Nov 25, 2021  1.88  17,250\n",
       "1  rsreina   ASML  Jan 19, 2022 BMO    Dec 7, 2021  4.41   5,995\n",
       "2  rsreina   STLD  Jan 24, 2022 AMC    Dec 8, 2021  5.61   5,350\n",
       "3  rsreina    IBM  Jan 24, 2022 AMC    Dec 7, 2021  3.46  18,450\n",
       "4  rsreina    ABT  Jan 26, 2022 BMO    Dec 5, 2021  1.38  10,750"
      ]
     },
     "execution_count": 273,
     "metadata": {},
     "output_type": "execute_result"
    }
   ],
   "source": [
    "analysts_pending.head()"
   ]
  },
  {
   "cell_type": "code",
   "execution_count": 274,
   "metadata": {},
   "outputs": [],
   "source": [
    "analysts_pending.to_csv('Analysts Pending.csv')"
   ]
  },
  {
   "cell_type": "code",
   "execution_count": 275,
   "metadata": {},
   "outputs": [],
   "source": [
    "browser.close()"
   ]
  },
  {
   "cell_type": "markdown",
   "metadata": {},
   "source": [
    "##### Estimates"
   ]
  },
  {
   "cell_type": "code",
   "execution_count": null,
   "metadata": {},
   "outputs": [],
   "source": []
  },
  {
   "cell_type": "code",
   "execution_count": 276,
   "metadata": {},
   "outputs": [],
   "source": [
    "chrome_options = webdriver.ChromeOptions()\n",
    "chrome_options.headless = False\n",
    "browser = webdriver.Chrome(executable_path = './chromedriver.exe',\n",
    "                          options = chrome_options)"
   ]
  },
  {
   "cell_type": "code",
   "execution_count": 277,
   "metadata": {},
   "outputs": [],
   "source": [
    "url = 'https://www.estimize.com/users/tv447703'"
   ]
  },
  {
   "cell_type": "code",
   "execution_count": 278,
   "metadata": {},
   "outputs": [],
   "source": [
    "browser.get(url)"
   ]
  },
  {
   "cell_type": "code",
   "execution_count": 280,
   "metadata": {},
   "outputs": [],
   "source": [
    "browser.execute_script(\"window.scrollTo(0, window.scrollY + 1450)\")"
   ]
  },
  {
   "cell_type": "code",
   "execution_count": 283,
   "metadata": {},
   "outputs": [],
   "source": [
    "for xi in range(0,1):\n",
    "    try:\n",
    "        if(browser.find_element_by_xpath('//*[@id=\"profile-scored-estimates\"]/div[2]')):\n",
    "            xi = browser.find_element_by_xpath('//*[@id=\"profile-scored-estimates\"]/div[2]')\n",
    "            xi.click()\n",
    "            \n",
    "    except NoSuchElementException:\n",
    "        break"
   ]
  },
  {
   "cell_type": "code",
   "execution_count": null,
   "metadata": {},
   "outputs": [],
   "source": [
    "try:\n",
    "    for i in range(1,100):\n",
    "        print(browser.find_element_by_xpath('//*[@id=\"profile-scored-estimates\"]/div[1]/div[2]/a['+str(i)+']/div[1]/strong').text)\n",
    "        print(browser.find_element_by_xpath('//*[@id=\"profile-scored-estimates\"]/div[1]/div[2]/a['+str(i)+']/div[2]').text)\n",
    "        print(browser.find_element_by_xpath('//*[@id=\"profile-scored-estimates\"]/div[1]/div[2]/a['+str(i)+']/div[3]').text)\n",
    "        print(browser.find_element_by_xpath('//*[@id=\"profile-scored-estimates\"]/div[1]/div[2]/a['+str(i)+']/div[4]').text)\n",
    "        print(browser.find_element_by_xpath('//*[@id=\"profile-scored-estimates\"]/div[1]/div[2]/a['+str(i)+']/div[5]').text)\n",
    "        print(browser.find_element_by_xpath('//*[@id=\"profile-scored-estimates\"]/div[1]/div[2]/a['+str(i)+']/div[6]').text)\n",
    "        print(browser.find_element_by_xpath('//*[@id=\"profile-scored-estimates\"]/div[1]/div[2]/a['+str(i)+']/div[7]').text)\n",
    "except:\n",
    "    print('kek')"
   ]
  },
  {
   "cell_type": "code",
   "execution_count": 287,
   "metadata": {},
   "outputs": [],
   "source": [
    "anal_name=[]\n",
    "tick=[]\n",
    "quarter = []\n",
    "reported = []\n",
    "rank = []\n",
    "eps = []\n",
    "revenue = []\n",
    "total = []\n",
    "\n",
    "for user in users:\n",
    "    \n",
    "    url = 'https://www.estimize.com/users/'+user\n",
    "    \n",
    "    browser.get(url)\n",
    "    browser.execute_script(\"window.scrollTo(0, window.scrollY + 1450)\")\n",
    "    time.sleep(5)\n",
    "    \n",
    "    for xi in range(0,1):\n",
    "        try:\n",
    "            if(browser.find_element_by_xpath('//*[@id=\"profile-scored-estimates\"]/div[2]')):\n",
    "                xi = browser.find_element_by_xpath('//*[@id=\"profile-scored-estimates\"]/div[2]')\n",
    "                xi.click()\n",
    "\n",
    "        except NoSuchElementException:\n",
    "            break\n",
    "    try:\n",
    "        for i in range(1,100):\n",
    "            tick.append(browser.find_element_by_xpath('//*[@id=\"profile-scored-estimates\"]/div[1]/div[2]/a['+str(i)+']/div[1]/strong').text)\n",
    "            quarter.append(browser.find_element_by_xpath('//*[@id=\"profile-scored-estimates\"]/div[1]/div[2]/a['+str(i)+']/div[2]').text)\n",
    "            reported.append(browser.find_element_by_xpath('//*[@id=\"profile-scored-estimates\"]/div[1]/div[2]/a['+str(i)+']/div[3]').text)\n",
    "            rank.append(browser.find_element_by_xpath('//*[@id=\"profile-scored-estimates\"]/div[1]/div[2]/a['+str(i)+']/div[4]').text)\n",
    "            eps.append(browser.find_element_by_xpath('//*[@id=\"profile-scored-estimates\"]/div[1]/div[2]/a['+str(i)+']/div[5]').text)\n",
    "            revenue.append(browser.find_element_by_xpath('//*[@id=\"profile-scored-estimates\"]/div[1]/div[2]/a['+str(i)+']/div[6]').text)\n",
    "            total.append(browser.find_element_by_xpath('//*[@id=\"profile-scored-estimates\"]/div[1]/div[2]/a['+str(i)+']/div[7]').text)\n",
    "            anal_name.append(browser.find_element_by_xpath('//*[@id=\"users_show\"]/div[4]/div[1]/div[2]/div[1]/div/h1/a').text)\n",
    "\n",
    "    except:\n",
    "        continue"
   ]
  },
  {
   "cell_type": "code",
   "execution_count": 296,
   "metadata": {},
   "outputs": [
    {
     "name": "stdout",
     "output_type": "stream",
     "text": [
      "3567 3567 3567 3567 3567 3567 3567 3567\n"
     ]
    }
   ],
   "source": [
    "print(len(anal_name),len(tick), len(quarter), len(reported),len(rank),len(eps), len(revenue), len(total))"
   ]
  },
  {
   "cell_type": "code",
   "execution_count": 297,
   "metadata": {},
   "outputs": [],
   "source": [
    "analysts_scored = pd.DataFrame()\n",
    "analysts_scored[\"Analysts\"] = anal_name\n",
    "analysts_scored[\"Ticker\"] = tick\n",
    "analysts_scored[\"Quarter\"] = quarter\n",
    "analysts_scored[\"Reported\"] = reported\n",
    "analysts_scored[\"Rank\"] = rank\n",
    "analysts_scored[\"EPS_Points\"] = eps\n",
    "analysts_scored[\"Revenue_Points\"] = revenue\n",
    "analysts_scored[\"Total_Points\"] = total"
   ]
  },
  {
   "cell_type": "code",
   "execution_count": 298,
   "metadata": {},
   "outputs": [
    {
     "data": {
      "text/html": [
       "<div>\n",
       "<style scoped>\n",
       "    .dataframe tbody tr th:only-of-type {\n",
       "        vertical-align: middle;\n",
       "    }\n",
       "\n",
       "    .dataframe tbody tr th {\n",
       "        vertical-align: top;\n",
       "    }\n",
       "\n",
       "    .dataframe thead th {\n",
       "        text-align: right;\n",
       "    }\n",
       "</style>\n",
       "<table border=\"1\" class=\"dataframe\">\n",
       "  <thead>\n",
       "    <tr style=\"text-align: right;\">\n",
       "      <th></th>\n",
       "      <th>Analysts</th>\n",
       "      <th>Ticker</th>\n",
       "      <th>Quarter</th>\n",
       "      <th>Reported</th>\n",
       "      <th>Rank</th>\n",
       "      <th>EPS_Points</th>\n",
       "      <th>Revenue_Points</th>\n",
       "      <th>Total_Points</th>\n",
       "    </tr>\n",
       "  </thead>\n",
       "  <tbody>\n",
       "    <tr>\n",
       "      <th>0</th>\n",
       "      <td>Analyst_2628177</td>\n",
       "      <td>HIBB</td>\n",
       "      <td>Q4 2019</td>\n",
       "      <td>Mar 22, 2019</td>\n",
       "      <td>6 / 35</td>\n",
       "      <td>10</td>\n",
       "      <td>17</td>\n",
       "      <td>27</td>\n",
       "    </tr>\n",
       "    <tr>\n",
       "      <th>1</th>\n",
       "      <td>loopie</td>\n",
       "      <td>MSGS</td>\n",
       "      <td>Q1 2022</td>\n",
       "      <td>Nov 10, 2021</td>\n",
       "      <td>2 / 11</td>\n",
       "      <td>24</td>\n",
       "      <td>-2</td>\n",
       "      <td>22</td>\n",
       "    </tr>\n",
       "    <tr>\n",
       "      <th>2</th>\n",
       "      <td>loopie</td>\n",
       "      <td>PYPL</td>\n",
       "      <td>Q3 2021</td>\n",
       "      <td>Nov 8, 2021</td>\n",
       "      <td>5 / 111</td>\n",
       "      <td>25</td>\n",
       "      <td>-2</td>\n",
       "      <td>23</td>\n",
       "    </tr>\n",
       "    <tr>\n",
       "      <th>3</th>\n",
       "      <td>loopie</td>\n",
       "      <td>ROKU</td>\n",
       "      <td>Q3 2021</td>\n",
       "      <td>Nov 3, 2021</td>\n",
       "      <td>41 / 68</td>\n",
       "      <td>8</td>\n",
       "      <td>-2</td>\n",
       "      <td>6</td>\n",
       "    </tr>\n",
       "    <tr>\n",
       "      <th>4</th>\n",
       "      <td>loopie</td>\n",
       "      <td>ANET</td>\n",
       "      <td>Q3 2021</td>\n",
       "      <td>Nov 1, 2021</td>\n",
       "      <td>4 / 28</td>\n",
       "      <td>11</td>\n",
       "      <td>22</td>\n",
       "      <td>33</td>\n",
       "    </tr>\n",
       "  </tbody>\n",
       "</table>\n",
       "</div>"
      ],
      "text/plain": [
       "          Analysts Ticker  Quarter      Reported     Rank EPS_Points  \\\n",
       "0  Analyst_2628177   HIBB  Q4 2019  Mar 22, 2019   6 / 35         10   \n",
       "1           loopie   MSGS  Q1 2022  Nov 10, 2021   2 / 11         24   \n",
       "2           loopie   PYPL  Q3 2021   Nov 8, 2021  5 / 111         25   \n",
       "3           loopie   ROKU  Q3 2021   Nov 3, 2021  41 / 68          8   \n",
       "4           loopie   ANET  Q3 2021   Nov 1, 2021   4 / 28         11   \n",
       "\n",
       "  Revenue_Points Total_Points  \n",
       "0             17           27  \n",
       "1             -2           22  \n",
       "2             -2           23  \n",
       "3             -2            6  \n",
       "4             22           33  "
      ]
     },
     "execution_count": 298,
     "metadata": {},
     "output_type": "execute_result"
    }
   ],
   "source": [
    "analysts_scored.head()"
   ]
  },
  {
   "cell_type": "code",
   "execution_count": 305,
   "metadata": {},
   "outputs": [],
   "source": [
    "analysts_scored.to_csv(\"Analysts Scored Estimates.csv\")"
   ]
  }
 ],
 "metadata": {
  "kernelspec": {
   "display_name": "Python 3",
   "language": "python",
   "name": "python3"
  },
  "language_info": {
   "codemirror_mode": {
    "name": "ipython",
    "version": 3
   },
   "file_extension": ".py",
   "mimetype": "text/x-python",
   "name": "python",
   "nbconvert_exporter": "python",
   "pygments_lexer": "ipython3",
   "version": "3.8.3"
  }
 },
 "nbformat": 4,
 "nbformat_minor": 5
}
